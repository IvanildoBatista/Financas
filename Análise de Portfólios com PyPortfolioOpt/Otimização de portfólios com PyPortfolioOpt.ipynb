{
 "cells": [
  {
   "cell_type": "markdown",
   "metadata": {
    "id": "FkvdWRrY7LtU"
   },
   "source": [
    "# Otimização de Portfólios\n",
    "\n",
    "Nesse pequeno projeto usarei uma biblioteca chamada *PyPortfolioOpt* que pode ser usada para otimização de portfólios (conjuntos de ativos financeiros usados para investimentos que forma uma carteira). Em um projeto anterior usei apenas a bibliotecas padrão para análise de dados (*pandas* e *numpy*) o que gerou um certo trabalho na hora de codificar. Essa biblioteca permite obter análises e resultados de forma mais automatizada gerando uma quantidade menor de código.\n",
    "\n",
    "Vale a pena repetir aqui: A otimização de portfólio é o processo onde técnicas matemáticas e estatísticas são usadas para identificar e gerar uma carteira ou portfólio ótimo de ativos para investimentos, com a finalidade de aumentar o retorno do investimento maior e com um risco menor, minimizando o risco de insucessos em investimentos.\n",
    "\n",
    "Para esse trabalho usarei os mesmo dados do projeto anterior. Vou extrair do site *Yahoo! Finance* os dados das 11 empresas brasileiras abaixo:\n",
    "\n",
    "1) Setor bancário : Banco Bradesco (*BBDC4.SA*) e Itaú Unibanco (*ITSA4.SA*);\n",
    "\n",
    "2) Setor elétrico : EDP - Energias do Brasil (*ENBR3.SA*) e Cemig (*CMIG4.SA*)\n",
    "\n",
    "3) Gás e Petróleo : Petrobras (*PETR4.SA*);\n",
    "\n",
    "4) Telecomunicações : Oi (*OIBR4.SA*) e Telefônica (*VIVT4.SA*);\n",
    "\n",
    "5) Alimentos : JBS (*JBSS3.SA*);\n",
    "\n",
    "6) Químico : Braskem (*BRKM5.SA*)\n",
    "\n",
    "7) Siderurgia :Usiminas (*USIM5.SA*);\n",
    "\n",
    "8) Comércio : Lojas Americanas (*LAME4.SA*).\n",
    "\n",
    "## Instalando a biblioteca *PyPortfolioOpt*"
   ]
  },
  {
   "cell_type": "code",
   "execution_count": 1,
   "metadata": {
    "colab": {
     "base_uri": "https://localhost:8080/"
    },
    "id": "Vbj22bg0cvxQ",
    "outputId": "c61b3eef-1dfd-40e2-f343-1676e6ed626b"
   },
   "outputs": [
    {
     "name": "stdout",
     "output_type": "stream",
     "text": [
      "Collecting PyPortfolioOpt\n",
      "\u001b[?25l  Downloading https://files.pythonhosted.org/packages/f9/19/1f903f95e2acb95dc4b4275278a7b9f0b2cdae387d815d6219ffb46d6576/PyPortfolioOpt-1.2.7-py3-none-any.whl (48kB)\n",
      "\r",
      "\u001b[K     |██████▊                         | 10kB 15.8MB/s eta 0:00:01\r",
      "\u001b[K     |█████████████▍                  | 20kB 17.9MB/s eta 0:00:01\r",
      "\u001b[K     |████████████████████▏           | 30kB 10.1MB/s eta 0:00:01\r",
      "\u001b[K     |██████████████████████████▉     | 40kB 8.7MB/s eta 0:00:01\r",
      "\u001b[K     |████████████████████████████████| 51kB 2.8MB/s \n",
      "\u001b[?25hRequirement already satisfied: cvxopt<2.0,>=1.2 in /usr/local/lib/python3.6/dist-packages (from PyPortfolioOpt) (1.2.5)\n",
      "Requirement already satisfied: scipy<2.0,>=1.3 in /usr/local/lib/python3.6/dist-packages (from PyPortfolioOpt) (1.4.1)\n",
      "Requirement already satisfied: pandas>=0.19 in /usr/local/lib/python3.6/dist-packages (from PyPortfolioOpt) (1.1.4)\n",
      "Requirement already satisfied: cvxpy<2.0,>=1.0 in /usr/local/lib/python3.6/dist-packages (from PyPortfolioOpt) (1.0.31)\n",
      "Requirement already satisfied: numpy<2.0,>=1.12 in /usr/local/lib/python3.6/dist-packages (from PyPortfolioOpt) (1.18.5)\n",
      "Requirement already satisfied: pytz>=2017.2 in /usr/local/lib/python3.6/dist-packages (from pandas>=0.19->PyPortfolioOpt) (2018.9)\n",
      "Requirement already satisfied: python-dateutil>=2.7.3 in /usr/local/lib/python3.6/dist-packages (from pandas>=0.19->PyPortfolioOpt) (2.8.1)\n",
      "Requirement already satisfied: ecos>=2 in /usr/local/lib/python3.6/dist-packages (from cvxpy<2.0,>=1.0->PyPortfolioOpt) (2.0.7.post1)\n",
      "Requirement already satisfied: scs>=1.1.3 in /usr/local/lib/python3.6/dist-packages (from cvxpy<2.0,>=1.0->PyPortfolioOpt) (2.1.2)\n",
      "Requirement already satisfied: multiprocess in /usr/local/lib/python3.6/dist-packages (from cvxpy<2.0,>=1.0->PyPortfolioOpt) (0.70.11.1)\n",
      "Requirement already satisfied: osqp>=0.4.1 in /usr/local/lib/python3.6/dist-packages (from cvxpy<2.0,>=1.0->PyPortfolioOpt) (0.6.1)\n",
      "Requirement already satisfied: six>=1.5 in /usr/local/lib/python3.6/dist-packages (from python-dateutil>=2.7.3->pandas>=0.19->PyPortfolioOpt) (1.15.0)\n",
      "Requirement already satisfied: dill>=0.3.3 in /usr/local/lib/python3.6/dist-packages (from multiprocess->cvxpy<2.0,>=1.0->PyPortfolioOpt) (0.3.3)\n",
      "Requirement already satisfied: future in /usr/local/lib/python3.6/dist-packages (from osqp>=0.4.1->cvxpy<2.0,>=1.0->PyPortfolioOpt) (0.16.0)\n",
      "Installing collected packages: PyPortfolioOpt\n",
      "Successfully installed PyPortfolioOpt-1.2.7\n"
     ]
    }
   ],
   "source": [
    "pip install PyPortfolioOpt"
   ]
  },
  {
   "cell_type": "markdown",
   "metadata": {
    "id": "pGS5QDOQfpOO"
   },
   "source": [
    "## Importando as bibliotecas"
   ]
  },
  {
   "cell_type": "code",
   "execution_count": 89,
   "metadata": {
    "id": "CCUPFvTMcwtz"
   },
   "outputs": [],
   "source": [
    "import pandas as pd\n",
    "import numpy as np\n",
    "import matplotlib.pyplot as plt\n",
    "import seaborn as sns\n",
    "\n",
    "from pandas_datareader import data as wb\n",
    "from pypfopt import efficient_frontier\n",
    "from pypfopt import risk_models\n",
    "from pypfopt import expected_returns\n",
    "from pypfopt import plotting\n",
    "from pypfopt import cla\n",
    "from pypfopt import hierarchical_portfolio\n"
   ]
  },
  {
   "cell_type": "markdown",
   "metadata": {
    "id": "foi96ul8ftFH"
   },
   "source": [
    "## Importando os dados\n",
    "\n",
    "Usarei um *loop for* para extrair os dados de fechamento ajustado das ações."
   ]
  },
  {
   "cell_type": "code",
   "execution_count": 3,
   "metadata": {
    "id": "aX8_l6o0Pqxk"
   },
   "outputs": [],
   "source": [
    "tickers=['BBDC4.SA','PETR4.SA','ITSA4.SA','OIBR4.SA','VIVT4.SA','BRKM5.SA','CMIG4.SA','JBSS3.SA','USIM5.SA',\n",
    "         'LAME4.SA','ENBR3.SA']\n",
    "newdata=pd.DataFrame()\n",
    "for t in tickers:\n",
    "    newdata[t]=wb.DataReader(t,data_source='yahoo',start='2019-1-1',end='2019-12-31')['Adj Close']"
   ]
  },
  {
   "cell_type": "markdown",
   "metadata": {
    "id": "8vi6Q0Nhf8Cm"
   },
   "source": [
    "Visualizando os dados"
   ]
  },
  {
   "cell_type": "code",
   "execution_count": 4,
   "metadata": {
    "colab": {
     "base_uri": "https://localhost:8080/",
     "height": 233
    },
    "id": "GtYb9NAWf_zX",
    "outputId": "7e42b4c7-6d25-4c08-d294-886f0cf634b3"
   },
   "outputs": [
    {
     "data": {
      "text/html": [
       "<div>\n",
       "<style scoped>\n",
       "    .dataframe tbody tr th:only-of-type {\n",
       "        vertical-align: middle;\n",
       "    }\n",
       "\n",
       "    .dataframe tbody tr th {\n",
       "        vertical-align: top;\n",
       "    }\n",
       "\n",
       "    .dataframe thead th {\n",
       "        text-align: right;\n",
       "    }\n",
       "</style>\n",
       "<table border=\"1\" class=\"dataframe\">\n",
       "  <thead>\n",
       "    <tr style=\"text-align: right;\">\n",
       "      <th></th>\n",
       "      <th>BBDC4.SA</th>\n",
       "      <th>PETR4.SA</th>\n",
       "      <th>ITSA4.SA</th>\n",
       "      <th>OIBR4.SA</th>\n",
       "      <th>VIVT4.SA</th>\n",
       "      <th>BRKM5.SA</th>\n",
       "      <th>CMIG4.SA</th>\n",
       "      <th>JBSS3.SA</th>\n",
       "      <th>USIM5.SA</th>\n",
       "      <th>LAME4.SA</th>\n",
       "      <th>ENBR3.SA</th>\n",
       "    </tr>\n",
       "    <tr>\n",
       "      <th>Date</th>\n",
       "      <th></th>\n",
       "      <th></th>\n",
       "      <th></th>\n",
       "      <th></th>\n",
       "      <th></th>\n",
       "      <th></th>\n",
       "      <th></th>\n",
       "      <th></th>\n",
       "      <th></th>\n",
       "      <th></th>\n",
       "      <th></th>\n",
       "    </tr>\n",
       "  </thead>\n",
       "  <tbody>\n",
       "    <tr>\n",
       "      <th>2019-01-02</th>\n",
       "      <td>31.118940</td>\n",
       "      <td>23.284786</td>\n",
       "      <td>11.501853</td>\n",
       "      <td>1.30</td>\n",
       "      <td>40.703033</td>\n",
       "      <td>43.746208</td>\n",
       "      <td>12.662499</td>\n",
       "      <td>11.766559</td>\n",
       "      <td>9.508233</td>\n",
       "      <td>19.293280</td>\n",
       "      <td>13.713815</td>\n",
       "    </tr>\n",
       "    <tr>\n",
       "      <th>2019-01-03</th>\n",
       "      <td>31.432852</td>\n",
       "      <td>23.855778</td>\n",
       "      <td>11.601870</td>\n",
       "      <td>1.47</td>\n",
       "      <td>41.065376</td>\n",
       "      <td>44.008808</td>\n",
       "      <td>12.396806</td>\n",
       "      <td>11.952243</td>\n",
       "      <td>9.303650</td>\n",
       "      <td>19.234570</td>\n",
       "      <td>14.284417</td>\n",
       "    </tr>\n",
       "    <tr>\n",
       "      <th>2019-01-04</th>\n",
       "      <td>31.186260</td>\n",
       "      <td>23.923521</td>\n",
       "      <td>11.565503</td>\n",
       "      <td>1.45</td>\n",
       "      <td>40.979103</td>\n",
       "      <td>43.519821</td>\n",
       "      <td>12.272809</td>\n",
       "      <td>12.264977</td>\n",
       "      <td>9.849203</td>\n",
       "      <td>18.990026</td>\n",
       "      <td>14.390800</td>\n",
       "    </tr>\n",
       "    <tr>\n",
       "      <th>2019-01-07</th>\n",
       "      <td>31.556227</td>\n",
       "      <td>24.300957</td>\n",
       "      <td>11.556408</td>\n",
       "      <td>1.43</td>\n",
       "      <td>41.324192</td>\n",
       "      <td>43.211941</td>\n",
       "      <td>11.909762</td>\n",
       "      <td>11.834969</td>\n",
       "      <td>9.868688</td>\n",
       "      <td>19.623545</td>\n",
       "      <td>13.974936</td>\n",
       "    </tr>\n",
       "    <tr>\n",
       "      <th>2019-01-08</th>\n",
       "      <td>31.748905</td>\n",
       "      <td>24.155787</td>\n",
       "      <td>11.710979</td>\n",
       "      <td>1.40</td>\n",
       "      <td>41.419083</td>\n",
       "      <td>43.184772</td>\n",
       "      <td>11.847810</td>\n",
       "      <td>12.020654</td>\n",
       "      <td>9.592963</td>\n",
       "      <td>19.653009</td>\n",
       "      <td>14.023293</td>\n",
       "    </tr>\n",
       "  </tbody>\n",
       "</table>\n",
       "</div>"
      ],
      "text/plain": [
       "             BBDC4.SA   PETR4.SA   ITSA4.SA  ...  USIM5.SA   LAME4.SA   ENBR3.SA\n",
       "Date                                         ...                                \n",
       "2019-01-02  31.118940  23.284786  11.501853  ...  9.508233  19.293280  13.713815\n",
       "2019-01-03  31.432852  23.855778  11.601870  ...  9.303650  19.234570  14.284417\n",
       "2019-01-04  31.186260  23.923521  11.565503  ...  9.849203  18.990026  14.390800\n",
       "2019-01-07  31.556227  24.300957  11.556408  ...  9.868688  19.623545  13.974936\n",
       "2019-01-08  31.748905  24.155787  11.710979  ...  9.592963  19.653009  14.023293\n",
       "\n",
       "[5 rows x 11 columns]"
      ]
     },
     "execution_count": 4,
     "metadata": {
      "tags": []
     },
     "output_type": "execute_result"
    }
   ],
   "source": [
    "newdata.head()"
   ]
  },
  {
   "cell_type": "code",
   "execution_count": 5,
   "metadata": {
    "colab": {
     "base_uri": "https://localhost:8080/",
     "height": 233
    },
    "id": "Re1Ll9eOf_1d",
    "outputId": "c2ee00ec-6001-4bad-fbe4-be4c49d91367"
   },
   "outputs": [
    {
     "data": {
      "text/html": [
       "<div>\n",
       "<style scoped>\n",
       "    .dataframe tbody tr th:only-of-type {\n",
       "        vertical-align: middle;\n",
       "    }\n",
       "\n",
       "    .dataframe tbody tr th {\n",
       "        vertical-align: top;\n",
       "    }\n",
       "\n",
       "    .dataframe thead th {\n",
       "        text-align: right;\n",
       "    }\n",
       "</style>\n",
       "<table border=\"1\" class=\"dataframe\">\n",
       "  <thead>\n",
       "    <tr style=\"text-align: right;\">\n",
       "      <th></th>\n",
       "      <th>BBDC4.SA</th>\n",
       "      <th>PETR4.SA</th>\n",
       "      <th>ITSA4.SA</th>\n",
       "      <th>OIBR4.SA</th>\n",
       "      <th>VIVT4.SA</th>\n",
       "      <th>BRKM5.SA</th>\n",
       "      <th>CMIG4.SA</th>\n",
       "      <th>JBSS3.SA</th>\n",
       "      <th>USIM5.SA</th>\n",
       "      <th>LAME4.SA</th>\n",
       "      <th>ENBR3.SA</th>\n",
       "    </tr>\n",
       "    <tr>\n",
       "      <th>Date</th>\n",
       "      <th></th>\n",
       "      <th></th>\n",
       "      <th></th>\n",
       "      <th></th>\n",
       "      <th></th>\n",
       "      <th></th>\n",
       "      <th></th>\n",
       "      <th></th>\n",
       "      <th></th>\n",
       "      <th></th>\n",
       "      <th></th>\n",
       "    </tr>\n",
       "  </thead>\n",
       "  <tbody>\n",
       "    <tr>\n",
       "      <th>2019-12-20</th>\n",
       "      <td>35.308628</td>\n",
       "      <td>29.844723</td>\n",
       "      <td>13.475850</td>\n",
       "      <td>1.23</td>\n",
       "      <td>53.012104</td>\n",
       "      <td>28.379999</td>\n",
       "      <td>12.475524</td>\n",
       "      <td>25.412397</td>\n",
       "      <td>9.243930</td>\n",
       "      <td>26.125483</td>\n",
       "      <td>20.742186</td>\n",
       "    </tr>\n",
       "    <tr>\n",
       "      <th>2019-12-23</th>\n",
       "      <td>35.526276</td>\n",
       "      <td>30.081429</td>\n",
       "      <td>13.573150</td>\n",
       "      <td>1.23</td>\n",
       "      <td>53.488541</td>\n",
       "      <td>29.250000</td>\n",
       "      <td>12.521295</td>\n",
       "      <td>25.725164</td>\n",
       "      <td>9.442085</td>\n",
       "      <td>26.385338</td>\n",
       "      <td>20.878073</td>\n",
       "    </tr>\n",
       "    <tr>\n",
       "      <th>2019-12-26</th>\n",
       "      <td>35.971466</td>\n",
       "      <td>30.485802</td>\n",
       "      <td>13.806667</td>\n",
       "      <td>1.24</td>\n",
       "      <td>53.955807</td>\n",
       "      <td>30.170000</td>\n",
       "      <td>12.767806</td>\n",
       "      <td>25.891323</td>\n",
       "      <td>9.442085</td>\n",
       "      <td>26.635201</td>\n",
       "      <td>21.140141</td>\n",
       "    </tr>\n",
       "    <tr>\n",
       "      <th>2019-12-27</th>\n",
       "      <td>35.832962</td>\n",
       "      <td>30.517742</td>\n",
       "      <td>13.748287</td>\n",
       "      <td>1.24</td>\n",
       "      <td>53.580154</td>\n",
       "      <td>30.440001</td>\n",
       "      <td>12.767806</td>\n",
       "      <td>25.803356</td>\n",
       "      <td>9.343008</td>\n",
       "      <td>26.075512</td>\n",
       "      <td>21.091608</td>\n",
       "    </tr>\n",
       "    <tr>\n",
       "      <th>2019-12-30</th>\n",
       "      <td>35.783489</td>\n",
       "      <td>30.177769</td>\n",
       "      <td>13.709369</td>\n",
       "      <td>1.23</td>\n",
       "      <td>53.122051</td>\n",
       "      <td>29.850000</td>\n",
       "      <td>12.861021</td>\n",
       "      <td>25.216917</td>\n",
       "      <td>9.422270</td>\n",
       "      <td>25.895611</td>\n",
       "      <td>21.450739</td>\n",
       "    </tr>\n",
       "  </tbody>\n",
       "</table>\n",
       "</div>"
      ],
      "text/plain": [
       "             BBDC4.SA   PETR4.SA   ITSA4.SA  ...  USIM5.SA   LAME4.SA   ENBR3.SA\n",
       "Date                                         ...                                \n",
       "2019-12-20  35.308628  29.844723  13.475850  ...  9.243930  26.125483  20.742186\n",
       "2019-12-23  35.526276  30.081429  13.573150  ...  9.442085  26.385338  20.878073\n",
       "2019-12-26  35.971466  30.485802  13.806667  ...  9.442085  26.635201  21.140141\n",
       "2019-12-27  35.832962  30.517742  13.748287  ...  9.343008  26.075512  21.091608\n",
       "2019-12-30  35.783489  30.177769  13.709369  ...  9.422270  25.895611  21.450739\n",
       "\n",
       "[5 rows x 11 columns]"
      ]
     },
     "execution_count": 5,
     "metadata": {
      "tags": []
     },
     "output_type": "execute_result"
    }
   ],
   "source": [
    "newdata.tail()"
   ]
  },
  {
   "cell_type": "markdown",
   "metadata": {
    "id": "94GXliNxg1zm"
   },
   "source": [
    "Informações sobre a base de dados"
   ]
  },
  {
   "cell_type": "code",
   "execution_count": 6,
   "metadata": {
    "colab": {
     "base_uri": "https://localhost:8080/"
    },
    "id": "816iLYpdf_3c",
    "outputId": "5d74fae9-7468-4f52-92ad-607c9f1be7fb"
   },
   "outputs": [
    {
     "name": "stdout",
     "output_type": "stream",
     "text": [
      "<class 'pandas.core.frame.DataFrame'>\n",
      "DatetimeIndex: 247 entries, 2019-01-02 to 2019-12-30\n",
      "Data columns (total 11 columns):\n",
      " #   Column    Non-Null Count  Dtype  \n",
      "---  ------    --------------  -----  \n",
      " 0   BBDC4.SA  247 non-null    float64\n",
      " 1   PETR4.SA  247 non-null    float64\n",
      " 2   ITSA4.SA  247 non-null    float64\n",
      " 3   OIBR4.SA  247 non-null    float64\n",
      " 4   VIVT4.SA  247 non-null    float64\n",
      " 5   BRKM5.SA  247 non-null    float64\n",
      " 6   CMIG4.SA  247 non-null    float64\n",
      " 7   JBSS3.SA  247 non-null    float64\n",
      " 8   USIM5.SA  247 non-null    float64\n",
      " 9   LAME4.SA  247 non-null    float64\n",
      " 10  ENBR3.SA  247 non-null    float64\n",
      "dtypes: float64(11)\n",
      "memory usage: 23.2 KB\n"
     ]
    }
   ],
   "source": [
    "newdata.info()"
   ]
  },
  {
   "cell_type": "markdown",
   "metadata": {
    "id": "kpTRzZm6g75f"
   },
   "source": [
    "Não há valores ausentes na base de dados."
   ]
  },
  {
   "cell_type": "code",
   "execution_count": 7,
   "metadata": {
    "colab": {
     "base_uri": "https://localhost:8080/"
    },
    "id": "T-5s-n0Pf_64",
    "outputId": "9a542ebe-7776-465f-85d1-064c63c6ddbf"
   },
   "outputs": [
    {
     "data": {
      "text/plain": [
       "BBDC4.SA    0\n",
       "PETR4.SA    0\n",
       "ITSA4.SA    0\n",
       "OIBR4.SA    0\n",
       "VIVT4.SA    0\n",
       "BRKM5.SA    0\n",
       "CMIG4.SA    0\n",
       "JBSS3.SA    0\n",
       "USIM5.SA    0\n",
       "LAME4.SA    0\n",
       "ENBR3.SA    0\n",
       "dtype: int64"
      ]
     },
     "execution_count": 7,
     "metadata": {
      "tags": []
     },
     "output_type": "execute_result"
    }
   ],
   "source": [
    "newdata.isna().sum()"
   ]
  },
  {
   "cell_type": "markdown",
   "metadata": {
    "id": "uNmucTrOhGMh"
   },
   "source": [
    "Tabela Estatística dos dados."
   ]
  },
  {
   "cell_type": "code",
   "execution_count": 8,
   "metadata": {
    "colab": {
     "base_uri": "https://localhost:8080/",
     "height": 294
    },
    "id": "m0sMRTiIfyrr",
    "outputId": "2659953e-4a3a-41e0-ca2b-c3781eccd159"
   },
   "outputs": [
    {
     "data": {
      "text/html": [
       "<div>\n",
       "<style scoped>\n",
       "    .dataframe tbody tr th:only-of-type {\n",
       "        vertical-align: middle;\n",
       "    }\n",
       "\n",
       "    .dataframe tbody tr th {\n",
       "        vertical-align: top;\n",
       "    }\n",
       "\n",
       "    .dataframe thead th {\n",
       "        text-align: right;\n",
       "    }\n",
       "</style>\n",
       "<table border=\"1\" class=\"dataframe\">\n",
       "  <thead>\n",
       "    <tr style=\"text-align: right;\">\n",
       "      <th></th>\n",
       "      <th>BBDC4.SA</th>\n",
       "      <th>PETR4.SA</th>\n",
       "      <th>ITSA4.SA</th>\n",
       "      <th>OIBR4.SA</th>\n",
       "      <th>VIVT4.SA</th>\n",
       "      <th>BRKM5.SA</th>\n",
       "      <th>CMIG4.SA</th>\n",
       "      <th>JBSS3.SA</th>\n",
       "      <th>USIM5.SA</th>\n",
       "      <th>LAME4.SA</th>\n",
       "      <th>ENBR3.SA</th>\n",
       "    </tr>\n",
       "  </thead>\n",
       "  <tbody>\n",
       "    <tr>\n",
       "      <th>count</th>\n",
       "      <td>247.000000</td>\n",
       "      <td>247.000000</td>\n",
       "      <td>247.000000</td>\n",
       "      <td>247.000000</td>\n",
       "      <td>247.000000</td>\n",
       "      <td>247.000000</td>\n",
       "      <td>247.000000</td>\n",
       "      <td>247.000000</td>\n",
       "      <td>247.000000</td>\n",
       "      <td>247.000000</td>\n",
       "      <td>247.000000</td>\n",
       "    </tr>\n",
       "    <tr>\n",
       "      <th>mean</th>\n",
       "      <td>33.038702</td>\n",
       "      <td>26.557699</td>\n",
       "      <td>12.103004</td>\n",
       "      <td>1.515101</td>\n",
       "      <td>45.801686</td>\n",
       "      <td>36.664876</td>\n",
       "      <td>12.692149</td>\n",
       "      <td>22.097006</td>\n",
       "      <td>8.626404</td>\n",
       "      <td>18.451444</td>\n",
       "      <td>18.017645</td>\n",
       "    </tr>\n",
       "    <tr>\n",
       "      <th>std</th>\n",
       "      <td>1.595598</td>\n",
       "      <td>1.724097</td>\n",
       "      <td>0.786674</td>\n",
       "      <td>0.167570</td>\n",
       "      <td>3.993627</td>\n",
       "      <td>7.929784</td>\n",
       "      <td>0.604960</td>\n",
       "      <td>5.911343</td>\n",
       "      <td>0.861708</td>\n",
       "      <td>2.721246</td>\n",
       "      <td>1.406557</td>\n",
       "    </tr>\n",
       "    <tr>\n",
       "      <th>min</th>\n",
       "      <td>29.493618</td>\n",
       "      <td>23.284786</td>\n",
       "      <td>10.439577</td>\n",
       "      <td>1.120000</td>\n",
       "      <td>39.823067</td>\n",
       "      <td>25.404394</td>\n",
       "      <td>11.415400</td>\n",
       "      <td>11.766559</td>\n",
       "      <td>6.935424</td>\n",
       "      <td>14.319851</td>\n",
       "      <td>13.713815</td>\n",
       "    </tr>\n",
       "    <tr>\n",
       "      <th>25%</th>\n",
       "      <td>31.930003</td>\n",
       "      <td>25.310676</td>\n",
       "      <td>11.570132</td>\n",
       "      <td>1.380000</td>\n",
       "      <td>41.712412</td>\n",
       "      <td>29.213224</td>\n",
       "      <td>12.268384</td>\n",
       "      <td>15.709918</td>\n",
       "      <td>7.950969</td>\n",
       "      <td>16.185987</td>\n",
       "      <td>17.018188</td>\n",
       "    </tr>\n",
       "    <tr>\n",
       "      <th>50%</th>\n",
       "      <td>32.941067</td>\n",
       "      <td>26.422464</td>\n",
       "      <td>12.050067</td>\n",
       "      <td>1.530000</td>\n",
       "      <td>46.387882</td>\n",
       "      <td>34.138367</td>\n",
       "      <td>12.694952</td>\n",
       "      <td>22.959124</td>\n",
       "      <td>8.608921</td>\n",
       "      <td>18.700306</td>\n",
       "      <td>18.383575</td>\n",
       "    </tr>\n",
       "    <tr>\n",
       "      <th>75%</th>\n",
       "      <td>34.263706</td>\n",
       "      <td>27.386546</td>\n",
       "      <td>12.687346</td>\n",
       "      <td>1.650000</td>\n",
       "      <td>49.196077</td>\n",
       "      <td>44.085777</td>\n",
       "      <td>13.168512</td>\n",
       "      <td>27.279230</td>\n",
       "      <td>9.367777</td>\n",
       "      <td>19.883820</td>\n",
       "      <td>18.893151</td>\n",
       "    </tr>\n",
       "    <tr>\n",
       "      <th>max</th>\n",
       "      <td>36.717976</td>\n",
       "      <td>30.544981</td>\n",
       "      <td>13.806667</td>\n",
       "      <td>1.880000</td>\n",
       "      <td>53.955807</td>\n",
       "      <td>50.736904</td>\n",
       "      <td>14.074989</td>\n",
       "      <td>32.449677</td>\n",
       "      <td>10.722125</td>\n",
       "      <td>26.725149</td>\n",
       "      <td>21.450739</td>\n",
       "    </tr>\n",
       "  </tbody>\n",
       "</table>\n",
       "</div>"
      ],
      "text/plain": [
       "         BBDC4.SA    PETR4.SA    ITSA4.SA  ...    USIM5.SA    LAME4.SA    ENBR3.SA\n",
       "count  247.000000  247.000000  247.000000  ...  247.000000  247.000000  247.000000\n",
       "mean    33.038702   26.557699   12.103004  ...    8.626404   18.451444   18.017645\n",
       "std      1.595598    1.724097    0.786674  ...    0.861708    2.721246    1.406557\n",
       "min     29.493618   23.284786   10.439577  ...    6.935424   14.319851   13.713815\n",
       "25%     31.930003   25.310676   11.570132  ...    7.950969   16.185987   17.018188\n",
       "50%     32.941067   26.422464   12.050067  ...    8.608921   18.700306   18.383575\n",
       "75%     34.263706   27.386546   12.687346  ...    9.367777   19.883820   18.893151\n",
       "max     36.717976   30.544981   13.806667  ...   10.722125   26.725149   21.450739\n",
       "\n",
       "[8 rows x 11 columns]"
      ]
     },
     "execution_count": 8,
     "metadata": {
      "tags": []
     },
     "output_type": "execute_result"
    }
   ],
   "source": [
    "newdata.describe()"
   ]
  },
  {
   "cell_type": "markdown",
   "metadata": {
    "id": "F-Z9Yu8ThOoJ"
   },
   "source": [
    "Correlação entre as séries de preços de fechamento."
   ]
  },
  {
   "cell_type": "code",
   "execution_count": 9,
   "metadata": {
    "colab": {
     "base_uri": "https://localhost:8080/",
     "height": 386
    },
    "id": "tlanN3FNhNW_",
    "outputId": "e213f723-256f-40e2-fc48-b8ba6c21fc98"
   },
   "outputs": [
    {
     "data": {
      "text/html": [
       "<div>\n",
       "<style scoped>\n",
       "    .dataframe tbody tr th:only-of-type {\n",
       "        vertical-align: middle;\n",
       "    }\n",
       "\n",
       "    .dataframe tbody tr th {\n",
       "        vertical-align: top;\n",
       "    }\n",
       "\n",
       "    .dataframe thead th {\n",
       "        text-align: right;\n",
       "    }\n",
       "</style>\n",
       "<table border=\"1\" class=\"dataframe\">\n",
       "  <thead>\n",
       "    <tr style=\"text-align: right;\">\n",
       "      <th></th>\n",
       "      <th>BBDC4.SA</th>\n",
       "      <th>PETR4.SA</th>\n",
       "      <th>ITSA4.SA</th>\n",
       "      <th>OIBR4.SA</th>\n",
       "      <th>VIVT4.SA</th>\n",
       "      <th>BRKM5.SA</th>\n",
       "      <th>CMIG4.SA</th>\n",
       "      <th>JBSS3.SA</th>\n",
       "      <th>USIM5.SA</th>\n",
       "      <th>LAME4.SA</th>\n",
       "      <th>ENBR3.SA</th>\n",
       "    </tr>\n",
       "  </thead>\n",
       "  <tbody>\n",
       "    <tr>\n",
       "      <th>BBDC4.SA</th>\n",
       "      <td>1.000000</td>\n",
       "      <td>0.364745</td>\n",
       "      <td>0.279825</td>\n",
       "      <td>0.197411</td>\n",
       "      <td>-0.046404</td>\n",
       "      <td>0.285036</td>\n",
       "      <td>0.145464</td>\n",
       "      <td>-0.298572</td>\n",
       "      <td>0.503434</td>\n",
       "      <td>0.124662</td>\n",
       "      <td>0.139308</td>\n",
       "    </tr>\n",
       "    <tr>\n",
       "      <th>PETR4.SA</th>\n",
       "      <td>0.364745</td>\n",
       "      <td>1.000000</td>\n",
       "      <td>0.676409</td>\n",
       "      <td>-0.276061</td>\n",
       "      <td>0.569282</td>\n",
       "      <td>-0.341827</td>\n",
       "      <td>-0.259443</td>\n",
       "      <td>0.340294</td>\n",
       "      <td>-0.029400</td>\n",
       "      <td>0.495270</td>\n",
       "      <td>0.453714</td>\n",
       "    </tr>\n",
       "    <tr>\n",
       "      <th>ITSA4.SA</th>\n",
       "      <td>0.279825</td>\n",
       "      <td>0.676409</td>\n",
       "      <td>1.000000</td>\n",
       "      <td>-0.526458</td>\n",
       "      <td>0.782910</td>\n",
       "      <td>-0.566993</td>\n",
       "      <td>-0.148451</td>\n",
       "      <td>0.524577</td>\n",
       "      <td>-0.197063</td>\n",
       "      <td>0.760389</td>\n",
       "      <td>0.533001</td>\n",
       "    </tr>\n",
       "    <tr>\n",
       "      <th>OIBR4.SA</th>\n",
       "      <td>0.197411</td>\n",
       "      <td>-0.276061</td>\n",
       "      <td>-0.526458</td>\n",
       "      <td>1.000000</td>\n",
       "      <td>-0.428228</td>\n",
       "      <td>0.428776</td>\n",
       "      <td>0.503884</td>\n",
       "      <td>-0.288833</td>\n",
       "      <td>0.296243</td>\n",
       "      <td>-0.652706</td>\n",
       "      <td>-0.123042</td>\n",
       "    </tr>\n",
       "    <tr>\n",
       "      <th>VIVT4.SA</th>\n",
       "      <td>-0.046404</td>\n",
       "      <td>0.569282</td>\n",
       "      <td>0.782910</td>\n",
       "      <td>-0.428228</td>\n",
       "      <td>1.000000</td>\n",
       "      <td>-0.887943</td>\n",
       "      <td>0.103703</td>\n",
       "      <td>0.864954</td>\n",
       "      <td>-0.525433</td>\n",
       "      <td>0.514969</td>\n",
       "      <td>0.785268</td>\n",
       "    </tr>\n",
       "    <tr>\n",
       "      <th>BRKM5.SA</th>\n",
       "      <td>0.285036</td>\n",
       "      <td>-0.341827</td>\n",
       "      <td>-0.566993</td>\n",
       "      <td>0.428776</td>\n",
       "      <td>-0.887943</td>\n",
       "      <td>1.000000</td>\n",
       "      <td>-0.173622</td>\n",
       "      <td>-0.911930</td>\n",
       "      <td>0.736793</td>\n",
       "      <td>-0.278138</td>\n",
       "      <td>-0.675261</td>\n",
       "    </tr>\n",
       "    <tr>\n",
       "      <th>CMIG4.SA</th>\n",
       "      <td>0.145464</td>\n",
       "      <td>-0.259443</td>\n",
       "      <td>-0.148451</td>\n",
       "      <td>0.503884</td>\n",
       "      <td>0.103703</td>\n",
       "      <td>-0.173622</td>\n",
       "      <td>1.000000</td>\n",
       "      <td>0.225393</td>\n",
       "      <td>-0.102702</td>\n",
       "      <td>-0.408541</td>\n",
       "      <td>0.343031</td>\n",
       "    </tr>\n",
       "    <tr>\n",
       "      <th>JBSS3.SA</th>\n",
       "      <td>-0.298572</td>\n",
       "      <td>0.340294</td>\n",
       "      <td>0.524577</td>\n",
       "      <td>-0.288833</td>\n",
       "      <td>0.864954</td>\n",
       "      <td>-0.911930</td>\n",
       "      <td>0.225393</td>\n",
       "      <td>1.000000</td>\n",
       "      <td>-0.808263</td>\n",
       "      <td>0.178533</td>\n",
       "      <td>0.739645</td>\n",
       "    </tr>\n",
       "    <tr>\n",
       "      <th>USIM5.SA</th>\n",
       "      <td>0.503434</td>\n",
       "      <td>-0.029400</td>\n",
       "      <td>-0.197063</td>\n",
       "      <td>0.296243</td>\n",
       "      <td>-0.525433</td>\n",
       "      <td>0.736793</td>\n",
       "      <td>-0.102702</td>\n",
       "      <td>-0.808263</td>\n",
       "      <td>1.000000</td>\n",
       "      <td>0.107573</td>\n",
       "      <td>-0.441715</td>\n",
       "    </tr>\n",
       "    <tr>\n",
       "      <th>LAME4.SA</th>\n",
       "      <td>0.124662</td>\n",
       "      <td>0.495270</td>\n",
       "      <td>0.760389</td>\n",
       "      <td>-0.652706</td>\n",
       "      <td>0.514969</td>\n",
       "      <td>-0.278138</td>\n",
       "      <td>-0.408541</td>\n",
       "      <td>0.178533</td>\n",
       "      <td>0.107573</td>\n",
       "      <td>1.000000</td>\n",
       "      <td>0.271350</td>\n",
       "    </tr>\n",
       "    <tr>\n",
       "      <th>ENBR3.SA</th>\n",
       "      <td>0.139308</td>\n",
       "      <td>0.453714</td>\n",
       "      <td>0.533001</td>\n",
       "      <td>-0.123042</td>\n",
       "      <td>0.785268</td>\n",
       "      <td>-0.675261</td>\n",
       "      <td>0.343031</td>\n",
       "      <td>0.739645</td>\n",
       "      <td>-0.441715</td>\n",
       "      <td>0.271350</td>\n",
       "      <td>1.000000</td>\n",
       "    </tr>\n",
       "  </tbody>\n",
       "</table>\n",
       "</div>"
      ],
      "text/plain": [
       "          BBDC4.SA  PETR4.SA  ITSA4.SA  ...  USIM5.SA  LAME4.SA  ENBR3.SA\n",
       "BBDC4.SA  1.000000  0.364745  0.279825  ...  0.503434  0.124662  0.139308\n",
       "PETR4.SA  0.364745  1.000000  0.676409  ... -0.029400  0.495270  0.453714\n",
       "ITSA4.SA  0.279825  0.676409  1.000000  ... -0.197063  0.760389  0.533001\n",
       "OIBR4.SA  0.197411 -0.276061 -0.526458  ...  0.296243 -0.652706 -0.123042\n",
       "VIVT4.SA -0.046404  0.569282  0.782910  ... -0.525433  0.514969  0.785268\n",
       "BRKM5.SA  0.285036 -0.341827 -0.566993  ...  0.736793 -0.278138 -0.675261\n",
       "CMIG4.SA  0.145464 -0.259443 -0.148451  ... -0.102702 -0.408541  0.343031\n",
       "JBSS3.SA -0.298572  0.340294  0.524577  ... -0.808263  0.178533  0.739645\n",
       "USIM5.SA  0.503434 -0.029400 -0.197063  ...  1.000000  0.107573 -0.441715\n",
       "LAME4.SA  0.124662  0.495270  0.760389  ...  0.107573  1.000000  0.271350\n",
       "ENBR3.SA  0.139308  0.453714  0.533001  ... -0.441715  0.271350  1.000000\n",
       "\n",
       "[11 rows x 11 columns]"
      ]
     },
     "execution_count": 9,
     "metadata": {
      "tags": []
     },
     "output_type": "execute_result"
    }
   ],
   "source": [
    "newdata.corr()"
   ]
  },
  {
   "cell_type": "markdown",
   "metadata": {
    "id": "h1oNT5B-htBV"
   },
   "source": [
    "Visualizando as séries de preços"
   ]
  },
  {
   "cell_type": "code",
   "execution_count": 10,
   "metadata": {
    "colab": {
     "base_uri": "https://localhost:8080/",
     "height": 590
    },
    "id": "_pIozCmshTvx",
    "outputId": "893776f1-800d-4b64-b9b0-ac4480e27437"
   },
   "outputs": [
    {
     "data": {
      "image/png": "[encoded data removed]",
      "text/plain": [
       "<Figure size 1440x720 with 1 Axes>"
      ]
     },
     "metadata": {
      "needs_background": "light",
      "tags": []
     },
     "output_type": "display_data"
    }
   ],
   "source": [
    "newdata.plot(figsize=(20,10))\n",
    "plt.title(\"Séries de preços de fechamentos de ações\",size=15);"
   ]
  },
  {
   "cell_type": "markdown",
   "metadata": {
    "id": "0-IyAREQiDJ7"
   },
   "source": [
    "Não farei mais nenhuma análise, pois já foram feitas no outro projeto, portanto irei agora aplicar diretamente a biblioteca *PyPortfolioOpt*.\n",
    "\n",
    "Aqui irei ater-me a alguns módulos da biblioteca que são:\n",
    "\n",
    "1) *Expected Returns*: Gera os retornos esperados de ativos para a otimização de média-variância. Por padrão é gerado o retorno esperado anualizado, entretanto é possível alterar o período de tempo;\n",
    "\n",
    "2) *Risk Models* : Além da média-variância é necessário o modelo de risco e o modelo de risco mais usado é a matrix de variância que mede a volatilidade dos retornos dos ativos e entre outros ativos. Essa parte é importante, pois é necessário identificar um portfólio que possua o menor risco possível;\n",
    "\n",
    "3)*Efficient Frontier Optimisation*: Aqui nesse módulo é gerada a carteira ótima.\n",
    "\n",
    "## *Expected Returns*\n",
    "\n",
    "Irei gerar os retornos anualizados de cada uma das ações da nossa base de dados com os preços dos ativos. Aqui, por padrão, é usada a média aritmética.\n",
    "\n",
    "Vemos que as ações que mais deram retorno no ano de 2019 foram a *JBSS3.SA* (118.331%), *ENBR3.SA* (58.13%) e *LAME4.SA* (35.18%). Um investidor que colocasse seu dinheiro no começo do ano de 2019 na JBS teria, ao fim do ano, mais do que dobrado seu investimento. \n",
    "\n",
    "Entretanto essa não é a única forma de analisar essas ações."
   ]
  },
  {
   "cell_type": "code",
   "execution_count": 11,
   "metadata": {
    "colab": {
     "base_uri": "https://localhost:8080/"
    },
    "id": "ZZoQkdRGhyau",
    "outputId": "014a29bf-6edf-4c57-e5be-6f71d0320702"
   },
   "outputs": [
    {
     "data": {
      "text/plain": [
       "BBDC4.SA     15.381810\n",
       "PETR4.SA     30.425219\n",
       "ITSA4.SA     19.704201\n",
       "OIBR4.SA     -5.512255\n",
       "VIVT4.SA     31.361695\n",
       "BRKM5.SA    -32.398670\n",
       "CMIG4.SA      1.606336\n",
       "JBSS3.SA    118.331669\n",
       "USIM5.SA     -0.926041\n",
       "LAME4.SA     35.187851\n",
       "ENBR3.SA     58.133037\n",
       "dtype: float64"
      ]
     },
     "execution_count": 11,
     "metadata": {
      "tags": []
     },
     "output_type": "execute_result"
    }
   ],
   "source": [
    "expected_returns.mean_historical_return(newdata, returns_data=False, compounding=True, frequency=252)*100"
   ]
  },
  {
   "cell_type": "markdown",
   "metadata": {
    "id": "mhydvgYgpDV2"
   },
   "source": [
    "Outra forma é a **média móvel exponencial ponderada dos retornos** que dá mais peso para os valores mais recentes dos preços, pois no caso anterior, como é feita uma média aritmética, os pesos são iguais. Aqui os retornos recentes possuem mais crédito e aumenta a relevância das expectativas. Não modificarei as entradas dos parâmetros.\n",
    "\n",
    "Já percebe-se uma diferença em relação ao resultado anterior, pois o retorno da *LAME4.SA* foi maior que o da *ENBRE3.SA*. A ações da JBS ainda são as que mais deram retorno, dentre as ações do portfólio."
   ]
  },
  {
   "cell_type": "code",
   "execution_count": 12,
   "metadata": {
    "colab": {
     "base_uri": "https://localhost:8080/"
    },
    "id": "9yraGvEBm3pA",
    "outputId": "7784c4ac-0693-470b-8ff9-ae65f1066881"
   },
   "outputs": [
    {
     "data": {
      "text/plain": [
       "BBDC4.SA    0.221748\n",
       "PETR4.SA    0.368557\n",
       "ITSA4.SA    0.278947\n",
       "OIBR4.SA   -0.100532\n",
       "VIVT4.SA    0.360153\n",
       "BRKM5.SA   -0.248840\n",
       "CMIG4.SA    0.061660\n",
       "JBSS3.SA    0.921585\n",
       "USIM5.SA    0.186975\n",
       "LAME4.SA    0.763603\n",
       "ENBR3.SA    0.586290\n",
       "Name: 2019-12-30 00:00:00, dtype: float64"
      ]
     },
     "execution_count": 12,
     "metadata": {
      "tags": []
     },
     "output_type": "execute_result"
    }
   ],
   "source": [
    "expected_returns.ema_historical_return(newdata, returns_data=False, compounding=True, span=500, frequency=252)"
   ]
  },
  {
   "cell_type": "markdown",
   "metadata": {
    "id": "X-WdjhNXrOPU"
   },
   "source": [
    "No outro projeto demorei um pouco até chegar no modelo *CAPM* (*Capital Asset Pricing Model*), que também é uma forma de estimar os retornos, e aqui já posso gerar os resultado com uma linha de comando. Esse método é basicamente a função abaixo\n",
    "\n",
    "$R_i=R_f+\\beta_i(E(R_m)−R_f)$\n",
    "\n",
    "Onde $R_i$ é o retorno esperado, $R_f$ é a taxa do ativo livre de risco, $\\beta_i$ é a covariância do ativo com a sua carteira dividido pela sua volatilidade (variância) e $R_m$ é o retorno de mercado. Por padrão usa-se a taxa livre de risco com valor 0.02 (2%), que é a taxa de juros de títulos americanos.\n",
    "\n",
    "Veja que pelo método *CAPM* a ação de maior retorno é a *USIM5.SA*, seguida de *LAME4.SA* e *OIBR4.SA*."
   ]
  },
  {
   "cell_type": "code",
   "execution_count": 13,
   "metadata": {
    "colab": {
     "base_uri": "https://localhost:8080/"
    },
    "id": "2o7xrcKrm7rM",
    "outputId": "c1104401-2d85-4b4b-c032-d3f367aa75c2"
   },
   "outputs": [
    {
     "data": {
      "text/plain": [
       "BBDC4.SA    0.250838\n",
       "PETR4.SA    0.263314\n",
       "ITSA4.SA    0.216593\n",
       "OIBR4.SA    0.273068\n",
       "VIVT4.SA    0.142906\n",
       "BRKM5.SA    0.250447\n",
       "CMIG4.SA    0.243645\n",
       "JBSS3.SA    0.241937\n",
       "USIM5.SA    0.307283\n",
       "LAME4.SA    0.277600\n",
       "ENBR3.SA    0.210117\n",
       "Name: mkt, dtype: float64"
      ]
     },
     "execution_count": 13,
     "metadata": {
      "tags": []
     },
     "output_type": "execute_result"
    }
   ],
   "source": [
    "expected_returns.capm_return(newdata, market_prices=None, returns_data=False, risk_free_rate=0.02, compounding=True,frequency=252)"
   ]
  },
  {
   "cell_type": "markdown",
   "metadata": {
    "id": "U4h9WFh5uGSS"
   },
   "source": [
    "No Brasil a taxa livre de risco pode ser definida como a Taxa Selic (que em 27 de Novembro de 2020) está em 5% (0.05). Com a nova taxa encontramos o resultado anterior, da ações de maior retorno."
   ]
  },
  {
   "cell_type": "code",
   "execution_count": 14,
   "metadata": {
    "colab": {
     "base_uri": "https://localhost:8080/"
    },
    "id": "7kEr__Qlm7tg",
    "outputId": "5bc0f9a6-5a95-4b99-e3ef-9997bff3703c"
   },
   "outputs": [
    {
     "data": {
      "text/plain": [
       "BBDC4.SA    0.249844\n",
       "PETR4.SA    0.260644\n",
       "ITSA4.SA    0.220197\n",
       "OIBR4.SA    0.269089\n",
       "VIVT4.SA    0.156404\n",
       "BRKM5.SA    0.249505\n",
       "CMIG4.SA    0.243616\n",
       "JBSS3.SA    0.242138\n",
       "USIM5.SA    0.298710\n",
       "LAME4.SA    0.273012\n",
       "ENBR3.SA    0.214590\n",
       "Name: mkt, dtype: float64"
      ]
     },
     "execution_count": 14,
     "metadata": {
      "tags": []
     },
     "output_type": "execute_result"
    }
   ],
   "source": [
    "expected_returns.capm_return(newdata, market_prices=None, returns_data=False, risk_free_rate=0.05, compounding=True,frequency=252)"
   ]
  },
  {
   "cell_type": "markdown",
   "metadata": {
    "id": "exjON5YjumaC"
   },
   "source": [
    "Pode-se calculaer os retornos diários por média aritmética ou por meio de logaritmo. Abaixo usei ambas as formas.\n",
    "\n",
    "Retorno aritmético."
   ]
  },
  {
   "cell_type": "code",
   "execution_count": 15,
   "metadata": {
    "colab": {
     "base_uri": "https://localhost:8080/",
     "height": 233
    },
    "id": "N189XjCTm7xu",
    "outputId": "a97d64c5-958f-4e30-d1a9-76918a945c70"
   },
   "outputs": [
    {
     "data": {
      "text/html": [
       "<div>\n",
       "<style scoped>\n",
       "    .dataframe tbody tr th:only-of-type {\n",
       "        vertical-align: middle;\n",
       "    }\n",
       "\n",
       "    .dataframe tbody tr th {\n",
       "        vertical-align: top;\n",
       "    }\n",
       "\n",
       "    .dataframe thead th {\n",
       "        text-align: right;\n",
       "    }\n",
       "</style>\n",
       "<table border=\"1\" class=\"dataframe\">\n",
       "  <thead>\n",
       "    <tr style=\"text-align: right;\">\n",
       "      <th></th>\n",
       "      <th>BBDC4.SA</th>\n",
       "      <th>PETR4.SA</th>\n",
       "      <th>ITSA4.SA</th>\n",
       "      <th>OIBR4.SA</th>\n",
       "      <th>VIVT4.SA</th>\n",
       "      <th>BRKM5.SA</th>\n",
       "      <th>CMIG4.SA</th>\n",
       "      <th>JBSS3.SA</th>\n",
       "      <th>USIM5.SA</th>\n",
       "      <th>LAME4.SA</th>\n",
       "      <th>ENBR3.SA</th>\n",
       "    </tr>\n",
       "    <tr>\n",
       "      <th>Date</th>\n",
       "      <th></th>\n",
       "      <th></th>\n",
       "      <th></th>\n",
       "      <th></th>\n",
       "      <th></th>\n",
       "      <th></th>\n",
       "      <th></th>\n",
       "      <th></th>\n",
       "      <th></th>\n",
       "      <th></th>\n",
       "      <th></th>\n",
       "    </tr>\n",
       "  </thead>\n",
       "  <tbody>\n",
       "    <tr>\n",
       "      <th>2019-01-03</th>\n",
       "      <td>0.010087</td>\n",
       "      <td>0.024522</td>\n",
       "      <td>0.008696</td>\n",
       "      <td>0.130769</td>\n",
       "      <td>0.008902</td>\n",
       "      <td>0.006003</td>\n",
       "      <td>-0.020983</td>\n",
       "      <td>0.015781</td>\n",
       "      <td>-0.021516</td>\n",
       "      <td>-0.003043</td>\n",
       "      <td>0.041608</td>\n",
       "    </tr>\n",
       "    <tr>\n",
       "      <th>2019-01-04</th>\n",
       "      <td>-0.007845</td>\n",
       "      <td>0.002840</td>\n",
       "      <td>-0.003135</td>\n",
       "      <td>-0.013605</td>\n",
       "      <td>-0.002101</td>\n",
       "      <td>-0.011111</td>\n",
       "      <td>-0.010002</td>\n",
       "      <td>0.026165</td>\n",
       "      <td>0.058639</td>\n",
       "      <td>-0.012714</td>\n",
       "      <td>0.007448</td>\n",
       "    </tr>\n",
       "    <tr>\n",
       "      <th>2019-01-07</th>\n",
       "      <td>0.011863</td>\n",
       "      <td>0.015777</td>\n",
       "      <td>-0.000786</td>\n",
       "      <td>-0.013793</td>\n",
       "      <td>0.008421</td>\n",
       "      <td>-0.007074</td>\n",
       "      <td>-0.029581</td>\n",
       "      <td>-0.035060</td>\n",
       "      <td>0.001978</td>\n",
       "      <td>0.033361</td>\n",
       "      <td>-0.028898</td>\n",
       "    </tr>\n",
       "    <tr>\n",
       "      <th>2019-01-08</th>\n",
       "      <td>0.006106</td>\n",
       "      <td>-0.005974</td>\n",
       "      <td>0.013375</td>\n",
       "      <td>-0.020979</td>\n",
       "      <td>0.002296</td>\n",
       "      <td>-0.000629</td>\n",
       "      <td>-0.005202</td>\n",
       "      <td>0.015690</td>\n",
       "      <td>-0.027939</td>\n",
       "      <td>0.001501</td>\n",
       "      <td>0.003460</td>\n",
       "    </tr>\n",
       "    <tr>\n",
       "      <th>2019-01-09</th>\n",
       "      <td>0.017238</td>\n",
       "      <td>0.020833</td>\n",
       "      <td>0.013199</td>\n",
       "      <td>0.021429</td>\n",
       "      <td>0.015206</td>\n",
       "      <td>0.006710</td>\n",
       "      <td>0.015695</td>\n",
       "      <td>-0.008130</td>\n",
       "      <td>0.032753</td>\n",
       "      <td>0.039480</td>\n",
       "      <td>0.006207</td>\n",
       "    </tr>\n",
       "  </tbody>\n",
       "</table>\n",
       "</div>"
      ],
      "text/plain": [
       "            BBDC4.SA  PETR4.SA  ITSA4.SA  ...  USIM5.SA  LAME4.SA  ENBR3.SA\n",
       "Date                                      ...                              \n",
       "2019-01-03  0.010087  0.024522  0.008696  ... -0.021516 -0.003043  0.041608\n",
       "2019-01-04 -0.007845  0.002840 -0.003135  ...  0.058639 -0.012714  0.007448\n",
       "2019-01-07  0.011863  0.015777 -0.000786  ...  0.001978  0.033361 -0.028898\n",
       "2019-01-08  0.006106 -0.005974  0.013375  ... -0.027939  0.001501  0.003460\n",
       "2019-01-09  0.017238  0.020833  0.013199  ...  0.032753  0.039480  0.006207\n",
       "\n",
       "[5 rows x 11 columns]"
      ]
     },
     "execution_count": 15,
     "metadata": {
      "tags": []
     },
     "output_type": "execute_result"
    }
   ],
   "source": [
    "expected_returns.returns_from_prices(newdata, log_returns=False).head()"
   ]
  },
  {
   "cell_type": "markdown",
   "metadata": {
    "id": "CYKTCVSpvzhz"
   },
   "source": [
    "Retorno Logarítmico."
   ]
  },
  {
   "cell_type": "code",
   "execution_count": 16,
   "metadata": {
    "colab": {
     "base_uri": "https://localhost:8080/",
     "height": 233
    },
    "id": "E6z-bl_Nm7zy",
    "outputId": "ae8474c8-34e6-44d9-dc06-c5a655001985"
   },
   "outputs": [
    {
     "data": {
      "text/html": [
       "<div>\n",
       "<style scoped>\n",
       "    .dataframe tbody tr th:only-of-type {\n",
       "        vertical-align: middle;\n",
       "    }\n",
       "\n",
       "    .dataframe tbody tr th {\n",
       "        vertical-align: top;\n",
       "    }\n",
       "\n",
       "    .dataframe thead th {\n",
       "        text-align: right;\n",
       "    }\n",
       "</style>\n",
       "<table border=\"1\" class=\"dataframe\">\n",
       "  <thead>\n",
       "    <tr style=\"text-align: right;\">\n",
       "      <th></th>\n",
       "      <th>BBDC4.SA</th>\n",
       "      <th>PETR4.SA</th>\n",
       "      <th>ITSA4.SA</th>\n",
       "      <th>OIBR4.SA</th>\n",
       "      <th>VIVT4.SA</th>\n",
       "      <th>BRKM5.SA</th>\n",
       "      <th>CMIG4.SA</th>\n",
       "      <th>JBSS3.SA</th>\n",
       "      <th>USIM5.SA</th>\n",
       "      <th>LAME4.SA</th>\n",
       "      <th>ENBR3.SA</th>\n",
       "    </tr>\n",
       "    <tr>\n",
       "      <th>Date</th>\n",
       "      <th></th>\n",
       "      <th></th>\n",
       "      <th></th>\n",
       "      <th></th>\n",
       "      <th></th>\n",
       "      <th></th>\n",
       "      <th></th>\n",
       "      <th></th>\n",
       "      <th></th>\n",
       "      <th></th>\n",
       "      <th></th>\n",
       "    </tr>\n",
       "  </thead>\n",
       "  <tbody>\n",
       "    <tr>\n",
       "      <th>2019-01-03</th>\n",
       "      <td>0.010037</td>\n",
       "      <td>0.024226</td>\n",
       "      <td>0.008658</td>\n",
       "      <td>0.122898</td>\n",
       "      <td>0.008863</td>\n",
       "      <td>0.005985</td>\n",
       "      <td>-0.021206</td>\n",
       "      <td>0.015657</td>\n",
       "      <td>-0.021751</td>\n",
       "      <td>-0.003048</td>\n",
       "      <td>0.040766</td>\n",
       "    </tr>\n",
       "    <tr>\n",
       "      <th>2019-01-04</th>\n",
       "      <td>-0.007876</td>\n",
       "      <td>0.002836</td>\n",
       "      <td>-0.003139</td>\n",
       "      <td>-0.013699</td>\n",
       "      <td>-0.002103</td>\n",
       "      <td>-0.011173</td>\n",
       "      <td>-0.010053</td>\n",
       "      <td>0.025829</td>\n",
       "      <td>0.056984</td>\n",
       "      <td>-0.012795</td>\n",
       "      <td>0.007420</td>\n",
       "    </tr>\n",
       "    <tr>\n",
       "      <th>2019-01-07</th>\n",
       "      <td>0.011793</td>\n",
       "      <td>0.015654</td>\n",
       "      <td>-0.000787</td>\n",
       "      <td>-0.013889</td>\n",
       "      <td>0.008386</td>\n",
       "      <td>-0.007100</td>\n",
       "      <td>-0.030028</td>\n",
       "      <td>-0.035689</td>\n",
       "      <td>0.001976</td>\n",
       "      <td>0.032816</td>\n",
       "      <td>-0.029324</td>\n",
       "    </tr>\n",
       "    <tr>\n",
       "      <th>2019-01-08</th>\n",
       "      <td>0.006087</td>\n",
       "      <td>-0.005992</td>\n",
       "      <td>0.013287</td>\n",
       "      <td>-0.021202</td>\n",
       "      <td>0.002294</td>\n",
       "      <td>-0.000629</td>\n",
       "      <td>-0.005215</td>\n",
       "      <td>0.015568</td>\n",
       "      <td>-0.028337</td>\n",
       "      <td>0.001500</td>\n",
       "      <td>0.003454</td>\n",
       "    </tr>\n",
       "    <tr>\n",
       "      <th>2019-01-09</th>\n",
       "      <td>0.017091</td>\n",
       "      <td>0.020619</td>\n",
       "      <td>0.013112</td>\n",
       "      <td>0.021202</td>\n",
       "      <td>0.015091</td>\n",
       "      <td>0.006688</td>\n",
       "      <td>0.015573</td>\n",
       "      <td>-0.008163</td>\n",
       "      <td>0.032228</td>\n",
       "      <td>0.038721</td>\n",
       "      <td>0.006188</td>\n",
       "    </tr>\n",
       "  </tbody>\n",
       "</table>\n",
       "</div>"
      ],
      "text/plain": [
       "            BBDC4.SA  PETR4.SA  ITSA4.SA  ...  USIM5.SA  LAME4.SA  ENBR3.SA\n",
       "Date                                      ...                              \n",
       "2019-01-03  0.010037  0.024226  0.008658  ... -0.021751 -0.003048  0.040766\n",
       "2019-01-04 -0.007876  0.002836 -0.003139  ...  0.056984 -0.012795  0.007420\n",
       "2019-01-07  0.011793  0.015654 -0.000787  ...  0.001976  0.032816 -0.029324\n",
       "2019-01-08  0.006087 -0.005992  0.013287  ... -0.028337  0.001500  0.003454\n",
       "2019-01-09  0.017091  0.020619  0.013112  ...  0.032228  0.038721  0.006188\n",
       "\n",
       "[5 rows x 11 columns]"
      ]
     },
     "execution_count": 16,
     "metadata": {
      "tags": []
     },
     "output_type": "execute_result"
    }
   ],
   "source": [
    "expected_returns.returns_from_prices(newdata, log_returns=True).head()"
   ]
  },
  {
   "cell_type": "code",
   "execution_count": 17,
   "metadata": {
    "colab": {
     "base_uri": "https://localhost:8080/",
     "height": 268
    },
    "id": "te0MXu24m71p",
    "outputId": "fde378db-c457-4652-8314-fa88be75f72b"
   },
   "outputs": [
    {
     "name": "stderr",
     "output_type": "stream",
     "text": [
      "/usr/local/lib/python3.6/dist-packages/pypfopt/expected_returns.py:57: UserWarning: log_returns_from_prices is deprecated. Please use returns_from_prices(prices, log_returns=True)\n",
      "  \"log_returns_from_prices is deprecated. Please use returns_from_prices(prices, log_returns=True)\"\n"
     ]
    },
    {
     "data": {
      "text/html": [
       "<div>\n",
       "<style scoped>\n",
       "    .dataframe tbody tr th:only-of-type {\n",
       "        vertical-align: middle;\n",
       "    }\n",
       "\n",
       "    .dataframe tbody tr th {\n",
       "        vertical-align: top;\n",
       "    }\n",
       "\n",
       "    .dataframe thead th {\n",
       "        text-align: right;\n",
       "    }\n",
       "</style>\n",
       "<table border=\"1\" class=\"dataframe\">\n",
       "  <thead>\n",
       "    <tr style=\"text-align: right;\">\n",
       "      <th></th>\n",
       "      <th>BBDC4.SA</th>\n",
       "      <th>PETR4.SA</th>\n",
       "      <th>ITSA4.SA</th>\n",
       "      <th>OIBR4.SA</th>\n",
       "      <th>VIVT4.SA</th>\n",
       "      <th>BRKM5.SA</th>\n",
       "      <th>CMIG4.SA</th>\n",
       "      <th>JBSS3.SA</th>\n",
       "      <th>USIM5.SA</th>\n",
       "      <th>LAME4.SA</th>\n",
       "      <th>ENBR3.SA</th>\n",
       "    </tr>\n",
       "    <tr>\n",
       "      <th>Date</th>\n",
       "      <th></th>\n",
       "      <th></th>\n",
       "      <th></th>\n",
       "      <th></th>\n",
       "      <th></th>\n",
       "      <th></th>\n",
       "      <th></th>\n",
       "      <th></th>\n",
       "      <th></th>\n",
       "      <th></th>\n",
       "      <th></th>\n",
       "    </tr>\n",
       "  </thead>\n",
       "  <tbody>\n",
       "    <tr>\n",
       "      <th>2019-01-03</th>\n",
       "      <td>0.010037</td>\n",
       "      <td>0.024226</td>\n",
       "      <td>0.008658</td>\n",
       "      <td>0.122898</td>\n",
       "      <td>0.008863</td>\n",
       "      <td>0.005985</td>\n",
       "      <td>-0.021206</td>\n",
       "      <td>0.015657</td>\n",
       "      <td>-0.021751</td>\n",
       "      <td>-0.003048</td>\n",
       "      <td>0.040766</td>\n",
       "    </tr>\n",
       "    <tr>\n",
       "      <th>2019-01-04</th>\n",
       "      <td>-0.007876</td>\n",
       "      <td>0.002836</td>\n",
       "      <td>-0.003139</td>\n",
       "      <td>-0.013699</td>\n",
       "      <td>-0.002103</td>\n",
       "      <td>-0.011173</td>\n",
       "      <td>-0.010053</td>\n",
       "      <td>0.025829</td>\n",
       "      <td>0.056984</td>\n",
       "      <td>-0.012795</td>\n",
       "      <td>0.007420</td>\n",
       "    </tr>\n",
       "    <tr>\n",
       "      <th>2019-01-07</th>\n",
       "      <td>0.011793</td>\n",
       "      <td>0.015654</td>\n",
       "      <td>-0.000787</td>\n",
       "      <td>-0.013889</td>\n",
       "      <td>0.008386</td>\n",
       "      <td>-0.007100</td>\n",
       "      <td>-0.030028</td>\n",
       "      <td>-0.035689</td>\n",
       "      <td>0.001976</td>\n",
       "      <td>0.032816</td>\n",
       "      <td>-0.029324</td>\n",
       "    </tr>\n",
       "    <tr>\n",
       "      <th>2019-01-08</th>\n",
       "      <td>0.006087</td>\n",
       "      <td>-0.005992</td>\n",
       "      <td>0.013287</td>\n",
       "      <td>-0.021202</td>\n",
       "      <td>0.002294</td>\n",
       "      <td>-0.000629</td>\n",
       "      <td>-0.005215</td>\n",
       "      <td>0.015568</td>\n",
       "      <td>-0.028337</td>\n",
       "      <td>0.001500</td>\n",
       "      <td>0.003454</td>\n",
       "    </tr>\n",
       "    <tr>\n",
       "      <th>2019-01-09</th>\n",
       "      <td>0.017091</td>\n",
       "      <td>0.020619</td>\n",
       "      <td>0.013112</td>\n",
       "      <td>0.021202</td>\n",
       "      <td>0.015091</td>\n",
       "      <td>0.006688</td>\n",
       "      <td>0.015573</td>\n",
       "      <td>-0.008163</td>\n",
       "      <td>0.032228</td>\n",
       "      <td>0.038721</td>\n",
       "      <td>0.006188</td>\n",
       "    </tr>\n",
       "  </tbody>\n",
       "</table>\n",
       "</div>"
      ],
      "text/plain": [
       "            BBDC4.SA  PETR4.SA  ITSA4.SA  ...  USIM5.SA  LAME4.SA  ENBR3.SA\n",
       "Date                                      ...                              \n",
       "2019-01-03  0.010037  0.024226  0.008658  ... -0.021751 -0.003048  0.040766\n",
       "2019-01-04 -0.007876  0.002836 -0.003139  ...  0.056984 -0.012795  0.007420\n",
       "2019-01-07  0.011793  0.015654 -0.000787  ...  0.001976  0.032816 -0.029324\n",
       "2019-01-08  0.006087 -0.005992  0.013287  ... -0.028337  0.001500  0.003454\n",
       "2019-01-09  0.017091  0.020619  0.013112  ...  0.032228  0.038721  0.006188\n",
       "\n",
       "[5 rows x 11 columns]"
      ]
     },
     "execution_count": 17,
     "metadata": {
      "tags": []
     },
     "output_type": "execute_result"
    }
   ],
   "source": [
    "expected_returns.log_returns_from_prices(newdata).head()"
   ]
  },
  {
   "cell_type": "markdown",
   "metadata": {
    "id": "dwYrmPs9wHJo"
   },
   "source": [
    "Por fim posso calcular os pseudo-preços diários dados aos retornos, que são os preços normalizados. A vantagem é que podemos comparar os preços em uma mesma escala."
   ]
  },
  {
   "cell_type": "code",
   "execution_count": 18,
   "metadata": {
    "colab": {
     "base_uri": "https://localhost:8080/",
     "height": 446
    },
    "id": "lLz9-zwvm73T",
    "outputId": "a36df071-e29e-4e96-ffed-fe5ce0b9cecb"
   },
   "outputs": [
    {
     "data": {
      "text/html": [
       "<div>\n",
       "<style scoped>\n",
       "    .dataframe tbody tr th:only-of-type {\n",
       "        vertical-align: middle;\n",
       "    }\n",
       "\n",
       "    .dataframe tbody tr th {\n",
       "        vertical-align: top;\n",
       "    }\n",
       "\n",
       "    .dataframe thead th {\n",
       "        text-align: right;\n",
       "    }\n",
       "</style>\n",
       "<table border=\"1\" class=\"dataframe\">\n",
       "  <thead>\n",
       "    <tr style=\"text-align: right;\">\n",
       "      <th></th>\n",
       "      <th>BBDC4.SA</th>\n",
       "      <th>PETR4.SA</th>\n",
       "      <th>ITSA4.SA</th>\n",
       "      <th>OIBR4.SA</th>\n",
       "      <th>VIVT4.SA</th>\n",
       "      <th>BRKM5.SA</th>\n",
       "      <th>CMIG4.SA</th>\n",
       "      <th>JBSS3.SA</th>\n",
       "      <th>USIM5.SA</th>\n",
       "      <th>LAME4.SA</th>\n",
       "      <th>ENBR3.SA</th>\n",
       "    </tr>\n",
       "    <tr>\n",
       "      <th>Date</th>\n",
       "      <th></th>\n",
       "      <th></th>\n",
       "      <th></th>\n",
       "      <th></th>\n",
       "      <th></th>\n",
       "      <th></th>\n",
       "      <th></th>\n",
       "      <th></th>\n",
       "      <th></th>\n",
       "      <th></th>\n",
       "      <th></th>\n",
       "    </tr>\n",
       "  </thead>\n",
       "  <tbody>\n",
       "    <tr>\n",
       "      <th>2019-01-03</th>\n",
       "      <td>1.000000</td>\n",
       "      <td>1.000000</td>\n",
       "      <td>1.000000</td>\n",
       "      <td>1.000000</td>\n",
       "      <td>1.000000</td>\n",
       "      <td>1.000000</td>\n",
       "      <td>1.000000</td>\n",
       "      <td>1.000000</td>\n",
       "      <td>1.000000</td>\n",
       "      <td>1.000000</td>\n",
       "      <td>1.000000</td>\n",
       "    </tr>\n",
       "    <tr>\n",
       "      <th>2019-01-04</th>\n",
       "      <td>0.992124</td>\n",
       "      <td>1.002836</td>\n",
       "      <td>0.996861</td>\n",
       "      <td>0.986301</td>\n",
       "      <td>0.997897</td>\n",
       "      <td>0.988827</td>\n",
       "      <td>0.989947</td>\n",
       "      <td>1.025829</td>\n",
       "      <td>1.056984</td>\n",
       "      <td>0.987205</td>\n",
       "      <td>1.007420</td>\n",
       "    </tr>\n",
       "    <tr>\n",
       "      <th>2019-01-07</th>\n",
       "      <td>1.003824</td>\n",
       "      <td>1.018534</td>\n",
       "      <td>0.996076</td>\n",
       "      <td>0.972602</td>\n",
       "      <td>1.006265</td>\n",
       "      <td>0.981806</td>\n",
       "      <td>0.960221</td>\n",
       "      <td>0.989218</td>\n",
       "      <td>1.059073</td>\n",
       "      <td>1.019601</td>\n",
       "      <td>0.977879</td>\n",
       "    </tr>\n",
       "    <tr>\n",
       "      <th>2019-01-08</th>\n",
       "      <td>1.009935</td>\n",
       "      <td>1.012431</td>\n",
       "      <td>1.009311</td>\n",
       "      <td>0.951981</td>\n",
       "      <td>1.008573</td>\n",
       "      <td>0.981189</td>\n",
       "      <td>0.955214</td>\n",
       "      <td>1.004618</td>\n",
       "      <td>1.029062</td>\n",
       "      <td>1.021131</td>\n",
       "      <td>0.981256</td>\n",
       "    </tr>\n",
       "    <tr>\n",
       "      <th>2019-01-09</th>\n",
       "      <td>1.027196</td>\n",
       "      <td>1.033307</td>\n",
       "      <td>1.022545</td>\n",
       "      <td>0.972165</td>\n",
       "      <td>1.023794</td>\n",
       "      <td>0.987751</td>\n",
       "      <td>0.970089</td>\n",
       "      <td>0.996417</td>\n",
       "      <td>1.062227</td>\n",
       "      <td>1.060670</td>\n",
       "      <td>0.987328</td>\n",
       "    </tr>\n",
       "    <tr>\n",
       "      <th>...</th>\n",
       "      <td>...</td>\n",
       "      <td>...</td>\n",
       "      <td>...</td>\n",
       "      <td>...</td>\n",
       "      <td>...</td>\n",
       "      <td>...</td>\n",
       "      <td>...</td>\n",
       "      <td>...</td>\n",
       "      <td>...</td>\n",
       "      <td>...</td>\n",
       "      <td>...</td>\n",
       "    </tr>\n",
       "    <tr>\n",
       "      <th>2019-12-20</th>\n",
       "      <td>1.086864</td>\n",
       "      <td>1.202870</td>\n",
       "      <td>1.130664</td>\n",
       "      <td>0.750088</td>\n",
       "      <td>1.269456</td>\n",
       "      <td>0.597022</td>\n",
       "      <td>0.970388</td>\n",
       "      <td>1.933892</td>\n",
       "      <td>0.932459</td>\n",
       "      <td>1.284322</td>\n",
       "      <td>1.405522</td>\n",
       "    </tr>\n",
       "    <tr>\n",
       "      <th>2019-12-23</th>\n",
       "      <td>1.093543</td>\n",
       "      <td>1.212372</td>\n",
       "      <td>1.138798</td>\n",
       "      <td>0.750088</td>\n",
       "      <td>1.280814</td>\n",
       "      <td>0.615049</td>\n",
       "      <td>0.973941</td>\n",
       "      <td>1.957548</td>\n",
       "      <td>0.952237</td>\n",
       "      <td>1.297033</td>\n",
       "      <td>1.414700</td>\n",
       "    </tr>\n",
       "    <tr>\n",
       "      <th>2019-12-26</th>\n",
       "      <td>1.107162</td>\n",
       "      <td>1.228561</td>\n",
       "      <td>1.158224</td>\n",
       "      <td>0.756162</td>\n",
       "      <td>1.291954</td>\n",
       "      <td>0.634096</td>\n",
       "      <td>0.992929</td>\n",
       "      <td>1.970151</td>\n",
       "      <td>0.952237</td>\n",
       "      <td>1.309258</td>\n",
       "      <td>1.432347</td>\n",
       "    </tr>\n",
       "    <tr>\n",
       "      <th>2019-12-27</th>\n",
       "      <td>1.102890</td>\n",
       "      <td>1.229848</td>\n",
       "      <td>1.153316</td>\n",
       "      <td>0.756162</td>\n",
       "      <td>1.282928</td>\n",
       "      <td>0.639745</td>\n",
       "      <td>0.992929</td>\n",
       "      <td>1.963446</td>\n",
       "      <td>0.942192</td>\n",
       "      <td>1.281453</td>\n",
       "      <td>1.429055</td>\n",
       "    </tr>\n",
       "    <tr>\n",
       "      <th>2019-12-30</th>\n",
       "      <td>1.101367</td>\n",
       "      <td>1.216070</td>\n",
       "      <td>1.150047</td>\n",
       "      <td>0.750039</td>\n",
       "      <td>1.271912</td>\n",
       "      <td>0.627224</td>\n",
       "      <td>1.000152</td>\n",
       "      <td>1.918308</td>\n",
       "      <td>0.950151</td>\n",
       "      <td>1.272581</td>\n",
       "      <td>1.453183</td>\n",
       "    </tr>\n",
       "  </tbody>\n",
       "</table>\n",
       "<p>246 rows × 11 columns</p>\n",
       "</div>"
      ],
      "text/plain": [
       "            BBDC4.SA  PETR4.SA  ITSA4.SA  ...  USIM5.SA  LAME4.SA  ENBR3.SA\n",
       "Date                                      ...                              \n",
       "2019-01-03  1.000000  1.000000  1.000000  ...  1.000000  1.000000  1.000000\n",
       "2019-01-04  0.992124  1.002836  0.996861  ...  1.056984  0.987205  1.007420\n",
       "2019-01-07  1.003824  1.018534  0.996076  ...  1.059073  1.019601  0.977879\n",
       "2019-01-08  1.009935  1.012431  1.009311  ...  1.029062  1.021131  0.981256\n",
       "2019-01-09  1.027196  1.033307  1.022545  ...  1.062227  1.060670  0.987328\n",
       "...              ...       ...       ...  ...       ...       ...       ...\n",
       "2019-12-20  1.086864  1.202870  1.130664  ...  0.932459  1.284322  1.405522\n",
       "2019-12-23  1.093543  1.212372  1.138798  ...  0.952237  1.297033  1.414700\n",
       "2019-12-26  1.107162  1.228561  1.158224  ...  0.952237  1.309258  1.432347\n",
       "2019-12-27  1.102890  1.229848  1.153316  ...  0.942192  1.281453  1.429055\n",
       "2019-12-30  1.101367  1.216070  1.150047  ...  0.950151  1.272581  1.453183\n",
       "\n",
       "[246 rows x 11 columns]"
      ]
     },
     "execution_count": 18,
     "metadata": {
      "tags": []
     },
     "output_type": "execute_result"
    }
   ],
   "source": [
    "expected_returns.prices_from_returns(expected_returns.returns_from_prices(newdata, log_returns=True))"
   ]
  },
  {
   "cell_type": "markdown",
   "metadata": {
    "id": "Hbal1IFoJJnM"
   },
   "source": [
    "Plotando os pseudo-preços/preços normalizados.\n",
    "\n",
    "Podemos ver que a série com maior crescimento foi a *PETR4.SA*."
   ]
  },
  {
   "cell_type": "code",
   "execution_count": 94,
   "metadata": {
    "colab": {
     "base_uri": "https://localhost:8080/",
     "height": 570
    },
    "id": "MoIq0qwVJJ5i",
    "outputId": "94cd9f1a-b4e8-40cf-ca86-c13ca14cb216"
   },
   "outputs": [
    {
     "data": {
      "image/png": "[encoded data removed]",
      "text/plain": [
       "<Figure size 1440x720 with 1 Axes>"
      ]
     },
     "metadata": {
      "needs_background": "light",
      "tags": []
     },
     "output_type": "display_data"
    }
   ],
   "source": [
    "expected_returns.prices_from_returns(expected_returns.returns_from_prices(newdata, log_returns=True)).plot(figsize=(20,10));"
   ]
  },
  {
   "cell_type": "markdown",
   "metadata": {
    "id": "r6s5nZE-xk_t"
   },
   "source": [
    "## *Risk Models*\n",
    "\n",
    "Agora usarei a biblioteca para analisar o risco do meu portfólio e a Biblioteca *PyPortfolioOpt* permite gerar vário modelos de risco.  A primeira é a matriz de covariância, que é a mais conhecida, mas há alternativas que são oferecidas como a matriz de semicovariância e covariância exponencialmente ponderada. Esses são os três tipos de matrizes que podemos gerar, mas ao todo são nove matrizes que podem ser geradas.\n",
    "\n",
    "Abaixo eu irei plotar todas essas matrizes, mas irei trabalhar com a mais simples que é a matriz de covariância.\n",
    "\n"
   ]
  },
  {
   "cell_type": "code",
   "execution_count": 19,
   "metadata": {
    "colab": {
     "base_uri": "https://localhost:8080/"
    },
    "id": "PwcTYrd3m76t",
    "outputId": "d46656a0-34bd-4e45-af0a-fb121dc0e957"
   },
   "outputs": [
    {
     "name": "stdout",
     "output_type": "stream",
     "text": [
      "          BBDC4.SA  PETR4.SA  ITSA4.SA  ...  USIM5.SA  LAME4.SA  ENBR3.SA\n",
      "BBDC4.SA  0.068219  0.035918  0.049062  ...  0.035893  0.034380  0.026483\n",
      "PETR4.SA  0.035918  0.081176  0.030510  ...  0.047369  0.034575  0.020302\n",
      "ITSA4.SA  0.049062  0.030510  0.055846  ...  0.025003  0.027516  0.025661\n",
      "OIBR4.SA  0.013076  0.040528  0.006644  ...  0.034875  0.010262  0.010953\n",
      "VIVT4.SA  0.020074  0.014580  0.018506  ...  0.011574  0.024065  0.020257\n",
      "BRKM5.SA  0.027045  0.027156  0.024400  ...  0.037184  0.023434  0.010398\n",
      "CMIG4.SA  0.029865  0.034505  0.026586  ...  0.040473  0.036339  0.035425\n",
      "JBSS3.SA  0.019984  0.012836  0.016859  ...  0.012486  0.022284  0.030879\n",
      "USIM5.SA  0.035893  0.047369  0.025003  ...  0.134378  0.046847  0.021944\n",
      "LAME4.SA  0.034380  0.034575  0.027516  ...  0.046847  0.116210  0.025824\n",
      "ENBR3.SA  0.026483  0.020302  0.025661  ...  0.021944  0.025824  0.068366\n",
      "\n",
      "[11 rows x 11 columns]\n",
      "          BBDC4.SA  PETR4.SA  ITSA4.SA  ...  USIM5.SA  LAME4.SA  ENBR3.SA\n",
      "BBDC4.SA  0.021636  0.009970  0.015039  ...  0.013155  0.012614  0.008628\n",
      "PETR4.SA  0.009970  0.027564  0.008024  ...  0.014878  0.014895  0.006443\n",
      "ITSA4.SA  0.015039  0.008024  0.017878  ...  0.009981  0.009783  0.007973\n",
      "OIBR4.SA  0.005131  0.012201  0.003574  ...  0.013477  0.003570  0.006971\n",
      "VIVT4.SA  0.006880  0.004915  0.005974  ...  0.006515  0.007464  0.006077\n",
      "BRKM5.SA  0.005468  0.007866  0.003946  ...  0.011485  0.005192  0.005622\n",
      "CMIG4.SA  0.010266  0.012839  0.009057  ...  0.016417  0.012870  0.011796\n",
      "JBSS3.SA  0.007398  0.006268  0.005507  ...  0.008499  0.008991  0.010425\n",
      "USIM5.SA  0.013155  0.014878  0.009981  ...  0.037863  0.017589  0.011483\n",
      "LAME4.SA  0.012614  0.014895  0.009783  ...  0.017589  0.035438  0.008428\n",
      "ENBR3.SA  0.008628  0.006443  0.007973  ...  0.011483  0.008428  0.021910\n",
      "\n",
      "[11 rows x 11 columns]\n",
      "          BBDC4.SA  PETR4.SA  ITSA4.SA  ...  USIM5.SA  LAME4.SA  ENBR3.SA\n",
      "BBDC4.SA  0.061408  0.029845  0.042093  ...  0.030564  0.024493  0.016380\n",
      "PETR4.SA  0.029845  0.071642  0.024950  ...  0.046806  0.025318  0.011109\n",
      "ITSA4.SA  0.042093  0.024950  0.046764  ...  0.018128  0.018602  0.014102\n",
      "OIBR4.SA  0.013880  0.035020  0.006954  ...  0.037593  0.013595  0.007514\n",
      "VIVT4.SA  0.014589  0.009510  0.013731  ...  0.006915  0.023566  0.015239\n",
      "BRKM5.SA  0.023349  0.026682  0.021383  ...  0.041736  0.020774  0.003002\n",
      "CMIG4.SA  0.020204  0.023191  0.017582  ...  0.029106  0.025402  0.026745\n",
      "JBSS3.SA  0.011697  0.008460  0.006196  ...  0.001416  0.014037  0.016999\n",
      "USIM5.SA  0.030564  0.046806  0.018128  ...  0.128174  0.043084  0.015311\n",
      "LAME4.SA  0.024493  0.025318  0.018602  ...  0.043084  0.118416  0.020483\n",
      "ENBR3.SA  0.016380  0.011109  0.014102  ...  0.015311  0.020483  0.047275\n",
      "\n",
      "[11 rows x 11 columns]\n",
      "          BBDC4.SA  PETR4.SA  ITSA4.SA  ...  USIM5.SA  LAME4.SA  ENBR3.SA\n",
      "BBDC4.SA  0.041134  0.019546  0.033356  ...  0.019419  0.028294  0.015211\n",
      "PETR4.SA  0.019546  0.033805  0.019408  ...  0.022906  0.022344  0.011752\n",
      "ITSA4.SA  0.033356  0.019408  0.041173  ...  0.017154  0.025963  0.013954\n",
      "OIBR4.SA  0.003649  0.011994  0.003073  ...  0.009552  0.001727 -0.000819\n",
      "VIVT4.SA  0.013254  0.011825  0.015402  ...  0.010687  0.020762  0.013803\n",
      "BRKM5.SA  0.014719  0.015927  0.017290  ...  0.036859  0.024006  0.006947\n",
      "CMIG4.SA  0.017745  0.018000  0.017838  ...  0.021255  0.024866  0.017751\n",
      "JBSS3.SA  0.016700  0.011022  0.016847  ...  0.003357  0.025604  0.028945\n",
      "USIM5.SA  0.019419  0.022906  0.017154  ...  0.077791  0.031654  0.009562\n",
      "LAME4.SA  0.028294  0.022344  0.025963  ...  0.031654  0.078923  0.021170\n",
      "ENBR3.SA  0.015211  0.011752  0.013954  ...  0.009562  0.021170  0.039667\n",
      "\n",
      "[11 rows x 11 columns]\n",
      "          BBDC4.SA  PETR4.SA  ITSA4.SA  ...  USIM5.SA  LAME4.SA  ENBR3.SA\n",
      "BBDC4.SA  0.072221  0.032201  0.043985  ...  0.032179  0.030822  0.023743\n",
      "PETR4.SA  0.032201  0.083837  0.027352  ...  0.042467  0.030997  0.018201\n",
      "ITSA4.SA  0.043985  0.027352  0.061129  ...  0.022416  0.024669  0.023006\n",
      "OIBR4.SA  0.011723  0.036334  0.005956  ...  0.031265  0.009200  0.009820\n",
      "VIVT4.SA  0.017997  0.013071  0.016591  ...  0.010376  0.021575  0.018161\n",
      "BRKM5.SA  0.024246  0.024346  0.021875  ...  0.033336  0.021009  0.009322\n",
      "CMIG4.SA  0.026774  0.030934  0.023835  ...  0.036285  0.032578  0.031758\n",
      "JBSS3.SA  0.017916  0.011508  0.015114  ...  0.011194  0.019978  0.027684\n",
      "USIM5.SA  0.032179  0.042467  0.022416  ...  0.131533  0.041999  0.019673\n",
      "LAME4.SA  0.030822  0.030997  0.024669  ...  0.041999  0.115245  0.023151\n",
      "ENBR3.SA  0.023743  0.018201  0.023006  ...  0.019673  0.023151  0.072353\n",
      "\n",
      "[11 rows x 11 columns]\n",
      "          BBDC4.SA  PETR4.SA  ITSA4.SA  ...  USIM5.SA  LAME4.SA  ENBR3.SA\n",
      "BBDC4.SA  0.072221  0.032201  0.043985  ...  0.032179  0.030822  0.023743\n",
      "PETR4.SA  0.032201  0.083837  0.027352  ...  0.042467  0.030997  0.018201\n",
      "ITSA4.SA  0.043985  0.027352  0.061129  ...  0.022416  0.024669  0.023006\n",
      "OIBR4.SA  0.011723  0.036334  0.005956  ...  0.031265  0.009200  0.009820\n",
      "VIVT4.SA  0.017997  0.013071  0.016591  ...  0.010376  0.021575  0.018161\n",
      "BRKM5.SA  0.024246  0.024346  0.021875  ...  0.033336  0.021009  0.009322\n",
      "CMIG4.SA  0.026774  0.030934  0.023835  ...  0.036285  0.032578  0.031758\n",
      "JBSS3.SA  0.017916  0.011508  0.015114  ...  0.011194  0.019978  0.027684\n",
      "USIM5.SA  0.032179  0.042467  0.022416  ...  0.131533  0.041999  0.019673\n",
      "LAME4.SA  0.030822  0.030997  0.024669  ...  0.041999  0.115245  0.023151\n",
      "ENBR3.SA  0.023743  0.018201  0.023006  ...  0.019673  0.023151  0.072353\n",
      "\n",
      "[11 rows x 11 columns]\n",
      "          BBDC4.SA  PETR4.SA  ITSA4.SA  ...  USIM5.SA  LAME4.SA  ENBR3.SA\n",
      "BBDC4.SA  0.067942  0.035730  0.045860  ...  0.036664  0.034737  0.026578\n",
      "PETR4.SA  0.035730  0.080846  0.030362  ...  0.046730  0.035204  0.021561\n",
      "ITSA4.SA  0.045860  0.030362  0.055619  ...  0.026507  0.028089  0.025269\n",
      "OIBR4.SA  0.016578  0.040148  0.010309  ...  0.036401  0.014828  0.013809\n",
      "VIVT4.SA  0.019686  0.015172  0.017960  ...  0.013132  0.023378  0.019370\n",
      "BRKM5.SA  0.027929  0.028294  0.024945  ...  0.037748  0.025447  0.012934\n",
      "CMIG4.SA  0.030172  0.034368  0.026672  ...  0.040353  0.036223  0.034029\n",
      "JBSS3.SA  0.021758  0.015959  0.018394  ...  0.016579  0.024266  0.030146\n",
      "USIM5.SA  0.036664  0.046730  0.026507  ...  0.133831  0.046673  0.023738\n",
      "LAME4.SA  0.034737  0.035204  0.028089  ...  0.046673  0.115737  0.026497\n",
      "ENBR3.SA  0.026578  0.021561  0.025269  ...  0.023738  0.026497  0.068088\n",
      "\n",
      "[11 rows x 11 columns]\n",
      "          BBDC4.SA  PETR4.SA  ITSA4.SA  ...  USIM5.SA  LAME4.SA  ENBR3.SA\n",
      "BBDC4.SA  0.068219  0.032867  0.042821  ...  0.033955  0.032385  0.024931\n",
      "PETR4.SA  0.032867  0.081176  0.028132  ...  0.043673  0.032963  0.020263\n",
      "ITSA4.SA  0.042821  0.028132  0.055846  ...  0.024689  0.026402  0.023930\n",
      "OIBR4.SA  0.017214  0.039984  0.011386  ...  0.037500  0.016973  0.015507\n",
      "VIVT4.SA  0.018731  0.014524  0.017225  ...  0.012886  0.022724  0.018882\n",
      "BRKM5.SA  0.027118  0.027687  0.024479  ...  0.037435  0.025813  0.013682\n",
      "CMIG4.SA  0.027842  0.031928  0.024840  ...  0.037913  0.034208  0.032335\n",
      "JBSS3.SA  0.022166  0.016942  0.019069  ...  0.018545  0.025863  0.030970\n",
      "USIM5.SA  0.033955  0.043673  0.024689  ...  0.134378  0.044318  0.022698\n",
      "LAME4.SA  0.032385  0.032963  0.026402  ...  0.044318  0.116210  0.025481\n",
      "ENBR3.SA  0.024931  0.020263  0.023930  ...  0.022698  0.025481  0.068366\n",
      "\n",
      "[11 rows x 11 columns]\n",
      "          BBDC4.SA  PETR4.SA  ITSA4.SA  ...  USIM5.SA  LAME4.SA  ENBR3.SA\n",
      "BBDC4.SA  0.070520  0.033620  0.045924  ...  0.033597  0.032180  0.024789\n",
      "PETR4.SA  0.033620  0.082648  0.028558  ...  0.044339  0.032363  0.019004\n",
      "ITSA4.SA  0.045924  0.028558  0.058939  ...  0.023404  0.025756  0.024020\n",
      "OIBR4.SA  0.012240  0.037935  0.006219  ...  0.032643  0.009606  0.010253\n",
      "VIVT4.SA  0.018790  0.013647  0.017322  ...  0.010834  0.022526  0.018961\n",
      "BRKM5.SA  0.025315  0.025419  0.022839  ...  0.034805  0.021935  0.009733\n",
      "CMIG4.SA  0.027954  0.032298  0.024885  ...  0.037884  0.034014  0.033158\n",
      "JBSS3.SA  0.018706  0.012015  0.015780  ...  0.011687  0.020858  0.028904\n",
      "USIM5.SA  0.033597  0.044339  0.023404  ...  0.132447  0.043850  0.020540\n",
      "LAME4.SA  0.032180  0.032363  0.025756  ...  0.043850  0.115441  0.024172\n",
      "ENBR3.SA  0.024789  0.019004  0.024020  ...  0.020540  0.024172  0.070658\n",
      "\n",
      "[11 rows x 11 columns]\n"
     ]
    }
   ],
   "source": [
    "lista=['sample_cov','semicovariance','exp_cov','min_cov_determinant','ledoit_wolf',\n",
    "       'ledoit_wolf_constant_variance','ledoit_wolf_single_factor','ledoit_wolf_constant_correlation',\n",
    "       'oracle_approximating']\n",
    "\n",
    "for i in lista:\n",
    "  print(risk_models.risk_matrix(newdata, method=i))"
   ]
  },
  {
   "cell_type": "markdown",
   "metadata": {
    "id": "DB8Mptmi6Ugm"
   },
   "source": [
    "Matriz de Covariância que será usada."
   ]
  },
  {
   "cell_type": "code",
   "execution_count": 20,
   "metadata": {
    "colab": {
     "base_uri": "https://localhost:8080/",
     "height": 386
    },
    "id": "LlMt9gaTm7-L",
    "outputId": "843b6977-00a0-4313-cc9d-a9fe2d7e075b"
   },
   "outputs": [
    {
     "data": {
      "text/html": [
       "<div>\n",
       "<style scoped>\n",
       "    .dataframe tbody tr th:only-of-type {\n",
       "        vertical-align: middle;\n",
       "    }\n",
       "\n",
       "    .dataframe tbody tr th {\n",
       "        vertical-align: top;\n",
       "    }\n",
       "\n",
       "    .dataframe thead th {\n",
       "        text-align: right;\n",
       "    }\n",
       "</style>\n",
       "<table border=\"1\" class=\"dataframe\">\n",
       "  <thead>\n",
       "    <tr style=\"text-align: right;\">\n",
       "      <th></th>\n",
       "      <th>BBDC4.SA</th>\n",
       "      <th>PETR4.SA</th>\n",
       "      <th>ITSA4.SA</th>\n",
       "      <th>OIBR4.SA</th>\n",
       "      <th>VIVT4.SA</th>\n",
       "      <th>BRKM5.SA</th>\n",
       "      <th>CMIG4.SA</th>\n",
       "      <th>JBSS3.SA</th>\n",
       "      <th>USIM5.SA</th>\n",
       "      <th>LAME4.SA</th>\n",
       "      <th>ENBR3.SA</th>\n",
       "    </tr>\n",
       "  </thead>\n",
       "  <tbody>\n",
       "    <tr>\n",
       "      <th>BBDC4.SA</th>\n",
       "      <td>0.068219</td>\n",
       "      <td>0.035918</td>\n",
       "      <td>0.049062</td>\n",
       "      <td>0.013076</td>\n",
       "      <td>0.020074</td>\n",
       "      <td>0.027045</td>\n",
       "      <td>0.029865</td>\n",
       "      <td>0.019984</td>\n",
       "      <td>0.035893</td>\n",
       "      <td>0.034380</td>\n",
       "      <td>0.026483</td>\n",
       "    </tr>\n",
       "    <tr>\n",
       "      <th>PETR4.SA</th>\n",
       "      <td>0.035918</td>\n",
       "      <td>0.081176</td>\n",
       "      <td>0.030510</td>\n",
       "      <td>0.040528</td>\n",
       "      <td>0.014580</td>\n",
       "      <td>0.027156</td>\n",
       "      <td>0.034505</td>\n",
       "      <td>0.012836</td>\n",
       "      <td>0.047369</td>\n",
       "      <td>0.034575</td>\n",
       "      <td>0.020302</td>\n",
       "    </tr>\n",
       "    <tr>\n",
       "      <th>ITSA4.SA</th>\n",
       "      <td>0.049062</td>\n",
       "      <td>0.030510</td>\n",
       "      <td>0.055846</td>\n",
       "      <td>0.006644</td>\n",
       "      <td>0.018506</td>\n",
       "      <td>0.024400</td>\n",
       "      <td>0.026586</td>\n",
       "      <td>0.016859</td>\n",
       "      <td>0.025003</td>\n",
       "      <td>0.027516</td>\n",
       "      <td>0.025661</td>\n",
       "    </tr>\n",
       "    <tr>\n",
       "      <th>OIBR4.SA</th>\n",
       "      <td>0.013076</td>\n",
       "      <td>0.040528</td>\n",
       "      <td>0.006644</td>\n",
       "      <td>0.240608</td>\n",
       "      <td>0.006999</td>\n",
       "      <td>0.024770</td>\n",
       "      <td>0.015456</td>\n",
       "      <td>-0.009503</td>\n",
       "      <td>0.034875</td>\n",
       "      <td>0.010262</td>\n",
       "      <td>0.010953</td>\n",
       "    </tr>\n",
       "    <tr>\n",
       "      <th>VIVT4.SA</th>\n",
       "      <td>0.020074</td>\n",
       "      <td>0.014580</td>\n",
       "      <td>0.018506</td>\n",
       "      <td>0.006999</td>\n",
       "      <td>0.034575</td>\n",
       "      <td>0.007572</td>\n",
       "      <td>0.016105</td>\n",
       "      <td>0.017369</td>\n",
       "      <td>0.011574</td>\n",
       "      <td>0.024065</td>\n",
       "      <td>0.020257</td>\n",
       "    </tr>\n",
       "    <tr>\n",
       "      <th>BRKM5.SA</th>\n",
       "      <td>0.027045</td>\n",
       "      <td>0.027156</td>\n",
       "      <td>0.024400</td>\n",
       "      <td>0.024770</td>\n",
       "      <td>0.007572</td>\n",
       "      <td>0.151460</td>\n",
       "      <td>0.019542</td>\n",
       "      <td>0.006427</td>\n",
       "      <td>0.037184</td>\n",
       "      <td>0.023434</td>\n",
       "      <td>0.010398</td>\n",
       "    </tr>\n",
       "    <tr>\n",
       "      <th>CMIG4.SA</th>\n",
       "      <td>0.029865</td>\n",
       "      <td>0.034505</td>\n",
       "      <td>0.026586</td>\n",
       "      <td>0.015456</td>\n",
       "      <td>0.016105</td>\n",
       "      <td>0.019542</td>\n",
       "      <td>0.075510</td>\n",
       "      <td>0.018975</td>\n",
       "      <td>0.040473</td>\n",
       "      <td>0.036339</td>\n",
       "      <td>0.035425</td>\n",
       "    </tr>\n",
       "    <tr>\n",
       "      <th>JBSS3.SA</th>\n",
       "      <td>0.019984</td>\n",
       "      <td>0.012836</td>\n",
       "      <td>0.016859</td>\n",
       "      <td>-0.009503</td>\n",
       "      <td>0.017369</td>\n",
       "      <td>0.006427</td>\n",
       "      <td>0.018975</td>\n",
       "      <td>0.197522</td>\n",
       "      <td>0.012486</td>\n",
       "      <td>0.022284</td>\n",
       "      <td>0.030879</td>\n",
       "    </tr>\n",
       "    <tr>\n",
       "      <th>USIM5.SA</th>\n",
       "      <td>0.035893</td>\n",
       "      <td>0.047369</td>\n",
       "      <td>0.025003</td>\n",
       "      <td>0.034875</td>\n",
       "      <td>0.011574</td>\n",
       "      <td>0.037184</td>\n",
       "      <td>0.040473</td>\n",
       "      <td>0.012486</td>\n",
       "      <td>0.134378</td>\n",
       "      <td>0.046847</td>\n",
       "      <td>0.021944</td>\n",
       "    </tr>\n",
       "    <tr>\n",
       "      <th>LAME4.SA</th>\n",
       "      <td>0.034380</td>\n",
       "      <td>0.034575</td>\n",
       "      <td>0.027516</td>\n",
       "      <td>0.010262</td>\n",
       "      <td>0.024065</td>\n",
       "      <td>0.023434</td>\n",
       "      <td>0.036339</td>\n",
       "      <td>0.022284</td>\n",
       "      <td>0.046847</td>\n",
       "      <td>0.116210</td>\n",
       "      <td>0.025824</td>\n",
       "    </tr>\n",
       "    <tr>\n",
       "      <th>ENBR3.SA</th>\n",
       "      <td>0.026483</td>\n",
       "      <td>0.020302</td>\n",
       "      <td>0.025661</td>\n",
       "      <td>0.010953</td>\n",
       "      <td>0.020257</td>\n",
       "      <td>0.010398</td>\n",
       "      <td>0.035425</td>\n",
       "      <td>0.030879</td>\n",
       "      <td>0.021944</td>\n",
       "      <td>0.025824</td>\n",
       "      <td>0.068366</td>\n",
       "    </tr>\n",
       "  </tbody>\n",
       "</table>\n",
       "</div>"
      ],
      "text/plain": [
       "          BBDC4.SA  PETR4.SA  ITSA4.SA  ...  USIM5.SA  LAME4.SA  ENBR3.SA\n",
       "BBDC4.SA  0.068219  0.035918  0.049062  ...  0.035893  0.034380  0.026483\n",
       "PETR4.SA  0.035918  0.081176  0.030510  ...  0.047369  0.034575  0.020302\n",
       "ITSA4.SA  0.049062  0.030510  0.055846  ...  0.025003  0.027516  0.025661\n",
       "OIBR4.SA  0.013076  0.040528  0.006644  ...  0.034875  0.010262  0.010953\n",
       "VIVT4.SA  0.020074  0.014580  0.018506  ...  0.011574  0.024065  0.020257\n",
       "BRKM5.SA  0.027045  0.027156  0.024400  ...  0.037184  0.023434  0.010398\n",
       "CMIG4.SA  0.029865  0.034505  0.026586  ...  0.040473  0.036339  0.035425\n",
       "JBSS3.SA  0.019984  0.012836  0.016859  ...  0.012486  0.022284  0.030879\n",
       "USIM5.SA  0.035893  0.047369  0.025003  ...  0.134378  0.046847  0.021944\n",
       "LAME4.SA  0.034380  0.034575  0.027516  ...  0.046847  0.116210  0.025824\n",
       "ENBR3.SA  0.026483  0.020302  0.025661  ...  0.021944  0.025824  0.068366\n",
       "\n",
       "[11 rows x 11 columns]"
      ]
     },
     "execution_count": 20,
     "metadata": {
      "tags": []
     },
     "output_type": "execute_result"
    }
   ],
   "source": [
    "risk_models.risk_matrix(newdata, method='sample_cov')"
   ]
  },
  {
   "cell_type": "markdown",
   "metadata": {
    "id": "zmqVrMt4mGwK"
   },
   "source": [
    "Plotando a matriz de covariância."
   ]
  },
  {
   "cell_type": "code",
   "execution_count": 32,
   "metadata": {
    "colab": {
     "base_uri": "https://localhost:8080/",
     "height": 314
    },
    "id": "U6UAIFk7mG-y",
    "outputId": "1629572e-126d-4a6e-a336-f0a3df581660"
   },
   "outputs": [
    {
     "data": {
      "text/plain": [
       "<Figure size 720x720 with 0 Axes>"
      ]
     },
     "metadata": {
      "tags": []
     },
     "output_type": "display_data"
    },
    {
     "data": {
      "image/png": "[encoded data removed]",
      "text/plain": [
       "<Figure size 432x288 with 2 Axes>"
      ]
     },
     "metadata": {
      "needs_background": "light",
      "tags": []
     },
     "output_type": "display_data"
    }
   ],
   "source": [
    "plt.figure(figsize=(10,10))\n",
    "plotting.plot_covariance(risk_models.risk_matrix(newdata, method='sample_cov'));"
   ]
  },
  {
   "cell_type": "markdown",
   "metadata": {
    "id": "ReJvQ_kX6uVn"
   },
   "source": [
    "Uma coisa importante é que a matriz de covariância deve ser semipositiva definida. O próximo método identifica se a matriz de covariância é ou não semipositiva definida, caso não seja é aplicada uma correção na matriz (que pode ser pelo método *spectral* que zera os autovalores negativos ou *diag* que adiciona um pequeno valor positivo à diagonal).\n",
    "\n",
    "Não houve alteração na matriz o que indica que ela é semipositiva definida."
   ]
  },
  {
   "cell_type": "code",
   "execution_count": 21,
   "metadata": {
    "colab": {
     "base_uri": "https://localhost:8080/",
     "height": 386
    },
    "id": "CG9n4R9Fm8A-",
    "outputId": "c4054b82-a918-4f9a-ceb0-15d48ff4d983"
   },
   "outputs": [
    {
     "data": {
      "text/html": [
       "<div>\n",
       "<style scoped>\n",
       "    .dataframe tbody tr th:only-of-type {\n",
       "        vertical-align: middle;\n",
       "    }\n",
       "\n",
       "    .dataframe tbody tr th {\n",
       "        vertical-align: top;\n",
       "    }\n",
       "\n",
       "    .dataframe thead th {\n",
       "        text-align: right;\n",
       "    }\n",
       "</style>\n",
       "<table border=\"1\" class=\"dataframe\">\n",
       "  <thead>\n",
       "    <tr style=\"text-align: right;\">\n",
       "      <th></th>\n",
       "      <th>BBDC4.SA</th>\n",
       "      <th>PETR4.SA</th>\n",
       "      <th>ITSA4.SA</th>\n",
       "      <th>OIBR4.SA</th>\n",
       "      <th>VIVT4.SA</th>\n",
       "      <th>BRKM5.SA</th>\n",
       "      <th>CMIG4.SA</th>\n",
       "      <th>JBSS3.SA</th>\n",
       "      <th>USIM5.SA</th>\n",
       "      <th>LAME4.SA</th>\n",
       "      <th>ENBR3.SA</th>\n",
       "    </tr>\n",
       "  </thead>\n",
       "  <tbody>\n",
       "    <tr>\n",
       "      <th>BBDC4.SA</th>\n",
       "      <td>0.068219</td>\n",
       "      <td>0.035918</td>\n",
       "      <td>0.049062</td>\n",
       "      <td>0.013076</td>\n",
       "      <td>0.020074</td>\n",
       "      <td>0.027045</td>\n",
       "      <td>0.029865</td>\n",
       "      <td>0.019984</td>\n",
       "      <td>0.035893</td>\n",
       "      <td>0.034380</td>\n",
       "      <td>0.026483</td>\n",
       "    </tr>\n",
       "    <tr>\n",
       "      <th>PETR4.SA</th>\n",
       "      <td>0.035918</td>\n",
       "      <td>0.081176</td>\n",
       "      <td>0.030510</td>\n",
       "      <td>0.040528</td>\n",
       "      <td>0.014580</td>\n",
       "      <td>0.027156</td>\n",
       "      <td>0.034505</td>\n",
       "      <td>0.012836</td>\n",
       "      <td>0.047369</td>\n",
       "      <td>0.034575</td>\n",
       "      <td>0.020302</td>\n",
       "    </tr>\n",
       "    <tr>\n",
       "      <th>ITSA4.SA</th>\n",
       "      <td>0.049062</td>\n",
       "      <td>0.030510</td>\n",
       "      <td>0.055846</td>\n",
       "      <td>0.006644</td>\n",
       "      <td>0.018506</td>\n",
       "      <td>0.024400</td>\n",
       "      <td>0.026586</td>\n",
       "      <td>0.016859</td>\n",
       "      <td>0.025003</td>\n",
       "      <td>0.027516</td>\n",
       "      <td>0.025661</td>\n",
       "    </tr>\n",
       "    <tr>\n",
       "      <th>OIBR4.SA</th>\n",
       "      <td>0.013076</td>\n",
       "      <td>0.040528</td>\n",
       "      <td>0.006644</td>\n",
       "      <td>0.240608</td>\n",
       "      <td>0.006999</td>\n",
       "      <td>0.024770</td>\n",
       "      <td>0.015456</td>\n",
       "      <td>-0.009503</td>\n",
       "      <td>0.034875</td>\n",
       "      <td>0.010262</td>\n",
       "      <td>0.010953</td>\n",
       "    </tr>\n",
       "    <tr>\n",
       "      <th>VIVT4.SA</th>\n",
       "      <td>0.020074</td>\n",
       "      <td>0.014580</td>\n",
       "      <td>0.018506</td>\n",
       "      <td>0.006999</td>\n",
       "      <td>0.034575</td>\n",
       "      <td>0.007572</td>\n",
       "      <td>0.016105</td>\n",
       "      <td>0.017369</td>\n",
       "      <td>0.011574</td>\n",
       "      <td>0.024065</td>\n",
       "      <td>0.020257</td>\n",
       "    </tr>\n",
       "    <tr>\n",
       "      <th>BRKM5.SA</th>\n",
       "      <td>0.027045</td>\n",
       "      <td>0.027156</td>\n",
       "      <td>0.024400</td>\n",
       "      <td>0.024770</td>\n",
       "      <td>0.007572</td>\n",
       "      <td>0.151460</td>\n",
       "      <td>0.019542</td>\n",
       "      <td>0.006427</td>\n",
       "      <td>0.037184</td>\n",
       "      <td>0.023434</td>\n",
       "      <td>0.010398</td>\n",
       "    </tr>\n",
       "    <tr>\n",
       "      <th>CMIG4.SA</th>\n",
       "      <td>0.029865</td>\n",
       "      <td>0.034505</td>\n",
       "      <td>0.026586</td>\n",
       "      <td>0.015456</td>\n",
       "      <td>0.016105</td>\n",
       "      <td>0.019542</td>\n",
       "      <td>0.075510</td>\n",
       "      <td>0.018975</td>\n",
       "      <td>0.040473</td>\n",
       "      <td>0.036339</td>\n",
       "      <td>0.035425</td>\n",
       "    </tr>\n",
       "    <tr>\n",
       "      <th>JBSS3.SA</th>\n",
       "      <td>0.019984</td>\n",
       "      <td>0.012836</td>\n",
       "      <td>0.016859</td>\n",
       "      <td>-0.009503</td>\n",
       "      <td>0.017369</td>\n",
       "      <td>0.006427</td>\n",
       "      <td>0.018975</td>\n",
       "      <td>0.197522</td>\n",
       "      <td>0.012486</td>\n",
       "      <td>0.022284</td>\n",
       "      <td>0.030879</td>\n",
       "    </tr>\n",
       "    <tr>\n",
       "      <th>USIM5.SA</th>\n",
       "      <td>0.035893</td>\n",
       "      <td>0.047369</td>\n",
       "      <td>0.025003</td>\n",
       "      <td>0.034875</td>\n",
       "      <td>0.011574</td>\n",
       "      <td>0.037184</td>\n",
       "      <td>0.040473</td>\n",
       "      <td>0.012486</td>\n",
       "      <td>0.134378</td>\n",
       "      <td>0.046847</td>\n",
       "      <td>0.021944</td>\n",
       "    </tr>\n",
       "    <tr>\n",
       "      <th>LAME4.SA</th>\n",
       "      <td>0.034380</td>\n",
       "      <td>0.034575</td>\n",
       "      <td>0.027516</td>\n",
       "      <td>0.010262</td>\n",
       "      <td>0.024065</td>\n",
       "      <td>0.023434</td>\n",
       "      <td>0.036339</td>\n",
       "      <td>0.022284</td>\n",
       "      <td>0.046847</td>\n",
       "      <td>0.116210</td>\n",
       "      <td>0.025824</td>\n",
       "    </tr>\n",
       "    <tr>\n",
       "      <th>ENBR3.SA</th>\n",
       "      <td>0.026483</td>\n",
       "      <td>0.020302</td>\n",
       "      <td>0.025661</td>\n",
       "      <td>0.010953</td>\n",
       "      <td>0.020257</td>\n",
       "      <td>0.010398</td>\n",
       "      <td>0.035425</td>\n",
       "      <td>0.030879</td>\n",
       "      <td>0.021944</td>\n",
       "      <td>0.025824</td>\n",
       "      <td>0.068366</td>\n",
       "    </tr>\n",
       "  </tbody>\n",
       "</table>\n",
       "</div>"
      ],
      "text/plain": [
       "          BBDC4.SA  PETR4.SA  ITSA4.SA  ...  USIM5.SA  LAME4.SA  ENBR3.SA\n",
       "BBDC4.SA  0.068219  0.035918  0.049062  ...  0.035893  0.034380  0.026483\n",
       "PETR4.SA  0.035918  0.081176  0.030510  ...  0.047369  0.034575  0.020302\n",
       "ITSA4.SA  0.049062  0.030510  0.055846  ...  0.025003  0.027516  0.025661\n",
       "OIBR4.SA  0.013076  0.040528  0.006644  ...  0.034875  0.010262  0.010953\n",
       "VIVT4.SA  0.020074  0.014580  0.018506  ...  0.011574  0.024065  0.020257\n",
       "BRKM5.SA  0.027045  0.027156  0.024400  ...  0.037184  0.023434  0.010398\n",
       "CMIG4.SA  0.029865  0.034505  0.026586  ...  0.040473  0.036339  0.035425\n",
       "JBSS3.SA  0.019984  0.012836  0.016859  ...  0.012486  0.022284  0.030879\n",
       "USIM5.SA  0.035893  0.047369  0.025003  ...  0.134378  0.046847  0.021944\n",
       "LAME4.SA  0.034380  0.034575  0.027516  ...  0.046847  0.116210  0.025824\n",
       "ENBR3.SA  0.026483  0.020302  0.025661  ...  0.021944  0.025824  0.068366\n",
       "\n",
       "[11 rows x 11 columns]"
      ]
     },
     "execution_count": 21,
     "metadata": {
      "tags": []
     },
     "output_type": "execute_result"
    }
   ],
   "source": [
    "risk_models.fix_nonpositive_semidefinite(risk_models.risk_matrix(newdata, method='sample_cov'), fix_method='spectral')"
   ]
  },
  {
   "cell_type": "markdown",
   "metadata": {
    "id": "5ho4_uOPAdAA"
   },
   "source": [
    "Também é possível coverter a matriz de covariância em matriz de correlação e vice-versa.\n",
    "\n",
    "Definindo a matriz."
   ]
  },
  {
   "cell_type": "code",
   "execution_count": 22,
   "metadata": {
    "id": "pkK6qpT5m8Ks"
   },
   "outputs": [],
   "source": [
    "matriz = risk_models.risk_matrix(newdata, method='sample_cov')"
   ]
  },
  {
   "cell_type": "markdown",
   "metadata": {
    "id": "0QpFbRiWBL7S"
   },
   "source": [
    "Convertendo a matriz de covariância para matriz de correlação."
   ]
  },
  {
   "cell_type": "code",
   "execution_count": 23,
   "metadata": {
    "colab": {
     "base_uri": "https://localhost:8080/",
     "height": 386
    },
    "id": "qdP3kNZim8HT",
    "outputId": "da375259-eb92-427e-9de2-7bb3b83e4d04"
   },
   "outputs": [
    {
     "data": {
      "text/html": [
       "<div>\n",
       "<style scoped>\n",
       "    .dataframe tbody tr th:only-of-type {\n",
       "        vertical-align: middle;\n",
       "    }\n",
       "\n",
       "    .dataframe tbody tr th {\n",
       "        vertical-align: top;\n",
       "    }\n",
       "\n",
       "    .dataframe thead th {\n",
       "        text-align: right;\n",
       "    }\n",
       "</style>\n",
       "<table border=\"1\" class=\"dataframe\">\n",
       "  <thead>\n",
       "    <tr style=\"text-align: right;\">\n",
       "      <th></th>\n",
       "      <th>BBDC4.SA</th>\n",
       "      <th>PETR4.SA</th>\n",
       "      <th>ITSA4.SA</th>\n",
       "      <th>OIBR4.SA</th>\n",
       "      <th>VIVT4.SA</th>\n",
       "      <th>BRKM5.SA</th>\n",
       "      <th>CMIG4.SA</th>\n",
       "      <th>JBSS3.SA</th>\n",
       "      <th>USIM5.SA</th>\n",
       "      <th>LAME4.SA</th>\n",
       "      <th>ENBR3.SA</th>\n",
       "    </tr>\n",
       "  </thead>\n",
       "  <tbody>\n",
       "    <tr>\n",
       "      <th>BBDC4.SA</th>\n",
       "      <td>1.000000</td>\n",
       "      <td>0.482660</td>\n",
       "      <td>0.794875</td>\n",
       "      <td>0.102066</td>\n",
       "      <td>0.413329</td>\n",
       "      <td>0.266067</td>\n",
       "      <td>0.416104</td>\n",
       "      <td>0.172155</td>\n",
       "      <td>0.374884</td>\n",
       "      <td>0.386125</td>\n",
       "      <td>0.387790</td>\n",
       "    </tr>\n",
       "    <tr>\n",
       "      <th>PETR4.SA</th>\n",
       "      <td>0.482660</td>\n",
       "      <td>1.000000</td>\n",
       "      <td>0.453135</td>\n",
       "      <td>0.289994</td>\n",
       "      <td>0.275206</td>\n",
       "      <td>0.244912</td>\n",
       "      <td>0.440724</td>\n",
       "      <td>0.101371</td>\n",
       "      <td>0.453545</td>\n",
       "      <td>0.355983</td>\n",
       "      <td>0.272528</td>\n",
       "    </tr>\n",
       "    <tr>\n",
       "      <th>ITSA4.SA</th>\n",
       "      <td>0.794875</td>\n",
       "      <td>0.453135</td>\n",
       "      <td>1.000000</td>\n",
       "      <td>0.057314</td>\n",
       "      <td>0.421143</td>\n",
       "      <td>0.265306</td>\n",
       "      <td>0.409405</td>\n",
       "      <td>0.160518</td>\n",
       "      <td>0.288628</td>\n",
       "      <td>0.341562</td>\n",
       "      <td>0.415300</td>\n",
       "    </tr>\n",
       "    <tr>\n",
       "      <th>OIBR4.SA</th>\n",
       "      <td>0.102066</td>\n",
       "      <td>0.289994</td>\n",
       "      <td>0.057314</td>\n",
       "      <td>1.000000</td>\n",
       "      <td>0.076735</td>\n",
       "      <td>0.129754</td>\n",
       "      <td>0.114666</td>\n",
       "      <td>-0.043590</td>\n",
       "      <td>0.193950</td>\n",
       "      <td>0.061371</td>\n",
       "      <td>0.085402</td>\n",
       "    </tr>\n",
       "    <tr>\n",
       "      <th>VIVT4.SA</th>\n",
       "      <td>0.413329</td>\n",
       "      <td>0.275206</td>\n",
       "      <td>0.421143</td>\n",
       "      <td>0.076735</td>\n",
       "      <td>1.000000</td>\n",
       "      <td>0.104640</td>\n",
       "      <td>0.315190</td>\n",
       "      <td>0.210171</td>\n",
       "      <td>0.169799</td>\n",
       "      <td>0.379651</td>\n",
       "      <td>0.416652</td>\n",
       "    </tr>\n",
       "    <tr>\n",
       "      <th>BRKM5.SA</th>\n",
       "      <td>0.266067</td>\n",
       "      <td>0.244912</td>\n",
       "      <td>0.265306</td>\n",
       "      <td>0.129754</td>\n",
       "      <td>0.104640</td>\n",
       "      <td>1.000000</td>\n",
       "      <td>0.182737</td>\n",
       "      <td>0.037155</td>\n",
       "      <td>0.260643</td>\n",
       "      <td>0.176633</td>\n",
       "      <td>0.102186</td>\n",
       "    </tr>\n",
       "    <tr>\n",
       "      <th>CMIG4.SA</th>\n",
       "      <td>0.416104</td>\n",
       "      <td>0.440724</td>\n",
       "      <td>0.409405</td>\n",
       "      <td>0.114666</td>\n",
       "      <td>0.315190</td>\n",
       "      <td>0.182737</td>\n",
       "      <td>1.000000</td>\n",
       "      <td>0.155375</td>\n",
       "      <td>0.401795</td>\n",
       "      <td>0.387924</td>\n",
       "      <td>0.493038</td>\n",
       "    </tr>\n",
       "    <tr>\n",
       "      <th>JBSS3.SA</th>\n",
       "      <td>0.172155</td>\n",
       "      <td>0.101371</td>\n",
       "      <td>0.160518</td>\n",
       "      <td>-0.043590</td>\n",
       "      <td>0.210171</td>\n",
       "      <td>0.037155</td>\n",
       "      <td>0.155375</td>\n",
       "      <td>1.000000</td>\n",
       "      <td>0.076641</td>\n",
       "      <td>0.147081</td>\n",
       "      <td>0.265729</td>\n",
       "    </tr>\n",
       "    <tr>\n",
       "      <th>USIM5.SA</th>\n",
       "      <td>0.374884</td>\n",
       "      <td>0.453545</td>\n",
       "      <td>0.288628</td>\n",
       "      <td>0.193950</td>\n",
       "      <td>0.169799</td>\n",
       "      <td>0.260643</td>\n",
       "      <td>0.401795</td>\n",
       "      <td>0.076641</td>\n",
       "      <td>1.000000</td>\n",
       "      <td>0.374885</td>\n",
       "      <td>0.228945</td>\n",
       "    </tr>\n",
       "    <tr>\n",
       "      <th>LAME4.SA</th>\n",
       "      <td>0.386125</td>\n",
       "      <td>0.355983</td>\n",
       "      <td>0.341562</td>\n",
       "      <td>0.061371</td>\n",
       "      <td>0.379651</td>\n",
       "      <td>0.176633</td>\n",
       "      <td>0.387924</td>\n",
       "      <td>0.147081</td>\n",
       "      <td>0.374885</td>\n",
       "      <td>1.000000</td>\n",
       "      <td>0.289719</td>\n",
       "    </tr>\n",
       "    <tr>\n",
       "      <th>ENBR3.SA</th>\n",
       "      <td>0.387790</td>\n",
       "      <td>0.272528</td>\n",
       "      <td>0.415300</td>\n",
       "      <td>0.085402</td>\n",
       "      <td>0.416652</td>\n",
       "      <td>0.102186</td>\n",
       "      <td>0.493038</td>\n",
       "      <td>0.265729</td>\n",
       "      <td>0.228945</td>\n",
       "      <td>0.289719</td>\n",
       "      <td>1.000000</td>\n",
       "    </tr>\n",
       "  </tbody>\n",
       "</table>\n",
       "</div>"
      ],
      "text/plain": [
       "          BBDC4.SA  PETR4.SA  ITSA4.SA  ...  USIM5.SA  LAME4.SA  ENBR3.SA\n",
       "BBDC4.SA  1.000000  0.482660  0.794875  ...  0.374884  0.386125  0.387790\n",
       "PETR4.SA  0.482660  1.000000  0.453135  ...  0.453545  0.355983  0.272528\n",
       "ITSA4.SA  0.794875  0.453135  1.000000  ...  0.288628  0.341562  0.415300\n",
       "OIBR4.SA  0.102066  0.289994  0.057314  ...  0.193950  0.061371  0.085402\n",
       "VIVT4.SA  0.413329  0.275206  0.421143  ...  0.169799  0.379651  0.416652\n",
       "BRKM5.SA  0.266067  0.244912  0.265306  ...  0.260643  0.176633  0.102186\n",
       "CMIG4.SA  0.416104  0.440724  0.409405  ...  0.401795  0.387924  0.493038\n",
       "JBSS3.SA  0.172155  0.101371  0.160518  ...  0.076641  0.147081  0.265729\n",
       "USIM5.SA  0.374884  0.453545  0.288628  ...  1.000000  0.374885  0.228945\n",
       "LAME4.SA  0.386125  0.355983  0.341562  ...  0.374885  1.000000  0.289719\n",
       "ENBR3.SA  0.387790  0.272528  0.415300  ...  0.228945  0.289719  1.000000\n",
       "\n",
       "[11 rows x 11 columns]"
      ]
     },
     "execution_count": 23,
     "metadata": {
      "tags": []
     },
     "output_type": "execute_result"
    }
   ],
   "source": [
    "risk_models.cov_to_corr(matriz)"
   ]
  },
  {
   "cell_type": "markdown",
   "metadata": {
    "id": "XFgAbk7kEbx6"
   },
   "source": [
    "## *Efficient Frontier*\n",
    "\n",
    "Para que seja gerada a fronteira de otimização, como o nome já deixa claro, é necessário minimizar o risco dada uma certa restrição, ou seja,\n",
    "\n",
    "Minimizar $ f(x)$ \n",
    "\n",
    "Sujeito a $g_i(x) \\leq 0$, com $i = 1, \\dots,n$\n",
    "\n",
    "$Ax  =b$\n",
    "\n",
    "Onde $x \\in R^n$ e $f(x), g(x)$ são funções convexas.\n",
    "\n",
    "A grande vantagem de quando trabalha-se com otimização de portfólios é que estamos resolvendo um problema convexo. O que poderia ser algo trabalhoso pode ser feito rapidamente com as funções deste módulo da biblioteca *PyPortfolioOpt*. \n",
    "\n",
    "Poderei então otimizar um portfólio minimizando o risco sujeito a uma restrição de retorno."
   ]
  },
  {
   "cell_type": "code",
   "execution_count": 97,
   "metadata": {
    "id": "zohbToqVm75g"
   },
   "outputs": [],
   "source": [
    "retorno = expected_returns.mean_historical_return(newdata, returns_data=False, compounding=True, frequency=252)"
   ]
  },
  {
   "cell_type": "markdown",
   "metadata": {
    "id": "d9W5uBAhcxYd"
   },
   "source": [
    "Criando a fronteira eficiente."
   ]
  },
  {
   "cell_type": "code",
   "execution_count": 98,
   "metadata": {
    "id": "-j0H0mukm7xF"
   },
   "outputs": [],
   "source": [
    "ef=efficient_frontier.EfficientFrontier(retorno, matriz, weight_bounds=(0,1), gamma=0, solver=None, verbose=False)"
   ]
  },
  {
   "cell_type": "markdown",
   "metadata": {
    "id": "bIrLYV4CtuKM"
   },
   "source": [
    "### Sobre o nosso portfólio\n",
    "\n",
    "Possui 11 pesos."
   ]
  },
  {
   "cell_type": "code",
   "execution_count": 99,
   "metadata": {
    "colab": {
     "base_uri": "https://localhost:8080/"
    },
    "id": "JZRKVF8uptZC",
    "outputId": "74054396-6721-4c19-9311-39eaedf6c45d"
   },
   "outputs": [
    {
     "data": {
      "text/plain": [
       "11"
      ]
     },
     "execution_count": 99,
     "metadata": {
      "tags": []
     },
     "output_type": "execute_result"
    }
   ],
   "source": [
    "ef.n_assets"
   ]
  },
  {
   "cell_type": "markdown",
   "metadata": {
    "id": "XLFKnEkOtzVm"
   },
   "source": [
    "Ativos do portfólio."
   ]
  },
  {
   "cell_type": "code",
   "execution_count": 100,
   "metadata": {
    "colab": {
     "base_uri": "https://localhost:8080/"
    },
    "id": "xt_-3wectzr1",
    "outputId": "f429c4e6-6bff-4f3f-cd86-325b0c8e7248"
   },
   "outputs": [
    {
     "data": {
      "text/plain": [
       "['BBDC4.SA',\n",
       " 'PETR4.SA',\n",
       " 'ITSA4.SA',\n",
       " 'OIBR4.SA',\n",
       " 'VIVT4.SA',\n",
       " 'BRKM5.SA',\n",
       " 'CMIG4.SA',\n",
       " 'JBSS3.SA',\n",
       " 'USIM5.SA',\n",
       " 'LAME4.SA',\n",
       " 'ENBR3.SA']"
      ]
     },
     "execution_count": 100,
     "metadata": {
      "tags": []
     },
     "output_type": "execute_result"
    }
   ],
   "source": [
    "ef.tickers"
   ]
  },
  {
   "cell_type": "markdown",
   "metadata": {
    "id": "o49GM36nt8h6"
   },
   "source": [
    "Matriz de covariância."
   ]
  },
  {
   "cell_type": "code",
   "execution_count": 101,
   "metadata": {
    "colab": {
     "base_uri": "https://localhost:8080/"
    },
    "id": "ohW20oMUt8vw",
    "outputId": "66cd05a6-47bb-495c-f727-238a6dfc82f8"
   },
   "outputs": [
    {
     "data": {
      "text/plain": [
       "array([[ 0.06821918,  0.03591761,  0.04906237,  0.01307642,  0.02007397,\n",
       "         0.02704537,  0.02986466,  0.01998398,  0.03589331,  0.03437974,\n",
       "         0.02648323],\n",
       "       [ 0.03591761,  0.08117572,  0.03050966,  0.04052811,  0.01457993,\n",
       "         0.02715646,  0.03450497,  0.0128361 ,  0.04736928,  0.0345751 ,\n",
       "         0.02030231],\n",
       "       [ 0.04906237,  0.03050966,  0.05584616,  0.0066437 ,  0.0185059 ,\n",
       "         0.02440018,  0.02658591,  0.01685889,  0.02500338,  0.02751615,\n",
       "         0.02566139],\n",
       "       [ 0.01307642,  0.04052811,  0.0066437 ,  0.24060771,  0.00699895,\n",
       "         0.02476993,  0.01545581, -0.00950269,  0.03487454,  0.01026212,\n",
       "         0.01095326],\n",
       "       [ 0.02007397,  0.01457993,  0.0185059 ,  0.00699895,  0.03457546,\n",
       "         0.00757233,  0.01610492,  0.0173686 ,  0.01157399,  0.02406522,\n",
       "         0.02025719],\n",
       "       [ 0.02704537,  0.02715646,  0.02440018,  0.02476993,  0.00757233,\n",
       "         0.15146014,  0.01954239,  0.00642653,  0.03718425,  0.02343373,\n",
       "         0.01039831],\n",
       "       [ 0.02986466,  0.03450497,  0.02658591,  0.01545581,  0.01610492,\n",
       "         0.01954239,  0.07550995,  0.01897542,  0.0404734 ,  0.0363388 ,\n",
       "         0.03542452],\n",
       "       [ 0.01998398,  0.0128361 ,  0.01685889, -0.00950269,  0.0173686 ,\n",
       "         0.00642653,  0.01897542,  0.19752205,  0.01248619,  0.02228367,\n",
       "         0.03087936],\n",
       "       [ 0.03589331,  0.04736928,  0.02500338,  0.03487454,  0.01157399,\n",
       "         0.03718425,  0.0404734 ,  0.01248619,  0.1343777 ,  0.04684714,\n",
       "         0.02194401],\n",
       "       [ 0.03437974,  0.0345751 ,  0.02751615,  0.01026212,  0.02406522,\n",
       "         0.02343373,  0.0363388 ,  0.02228367,  0.04684714,  0.11620988,\n",
       "         0.02582381],\n",
       "       [ 0.02648323,  0.02030231,  0.02566139,  0.01095326,  0.02025719,\n",
       "         0.01039831,  0.03542452,  0.03087936,  0.02194401,  0.02582381,\n",
       "         0.06836634]])"
      ]
     },
     "execution_count": 101,
     "metadata": {
      "tags": []
     },
     "output_type": "execute_result"
    }
   ],
   "source": [
    "ef.cov_matrix"
   ]
  },
  {
   "cell_type": "markdown",
   "metadata": {
    "id": "f5oZCwxOuLQL"
   },
   "source": [
    "Retornos esperados."
   ]
  },
  {
   "cell_type": "code",
   "execution_count": 102,
   "metadata": {
    "colab": {
     "base_uri": "https://localhost:8080/"
    },
    "id": "zZr5xEKQuLmJ",
    "outputId": "b5190e1d-2704-4ada-b3ee-eb1cadb9d585"
   },
   "outputs": [
    {
     "data": {
      "text/plain": [
       "array([ 0.1538181 ,  0.30425219,  0.19704201, -0.05512255,  0.31361695,\n",
       "       -0.3239867 ,  0.01606336,  1.18331669, -0.00926041,  0.35187851,\n",
       "        0.58133037])"
      ]
     },
     "execution_count": 102,
     "metadata": {
      "tags": []
     },
     "output_type": "execute_result"
    }
   ],
   "source": [
    "ef.expected_returns"
   ]
  },
  {
   "cell_type": "markdown",
   "metadata": {
    "id": "vDLrsw5Novsv"
   },
   "source": [
    "Otimização da volatilidasde mínima."
   ]
  },
  {
   "cell_type": "code",
   "execution_count": 103,
   "metadata": {
    "colab": {
     "base_uri": "https://localhost:8080/"
    },
    "id": "HAVQOiT5ZaNv",
    "outputId": "39712956-1e12-4063-816c-c894c7c40873"
   },
   "outputs": [
    {
     "data": {
      "text/plain": [
       "OrderedDict([('BBDC4.SA', 0.0),\n",
       "             ('PETR4.SA', 0.0420326170928969),\n",
       "             ('ITSA4.SA', 0.12046401373251),\n",
       "             ('OIBR4.SA', 0.0590517112430514),\n",
       "             ('VIVT4.SA', 0.4898589395684457),\n",
       "             ('BRKM5.SA', 0.077431381902921),\n",
       "             ('CMIG4.SA', 0.0645901046982376),\n",
       "             ('JBSS3.SA', 0.0490505824112615),\n",
       "             ('USIM5.SA', 0.0302895050592241),\n",
       "             ('LAME4.SA', 0.0),\n",
       "             ('ENBR3.SA', 0.0672311442914517)])"
      ]
     },
     "execution_count": 103,
     "metadata": {
      "tags": []
     },
     "output_type": "execute_result"
    }
   ],
   "source": [
    "ef.min_volatility()"
   ]
  },
  {
   "cell_type": "markdown",
   "metadata": {
    "id": "jRFUQLPEoiCV"
   },
   "source": [
    "Índice de *Sharpe* de cada ação (usado para analisar o desempenho do ativo em relação ao ativo livre de risco). Em comparação ao ativo livre de risco as ações com melhores desempenhos são *PETR4.SA*, *VIVT4.SA*,*JBSS3.SA* e *ENBR3.SA*."
   ]
  },
  {
   "cell_type": "code",
   "execution_count": 104,
   "metadata": {
    "colab": {
     "base_uri": "https://localhost:8080/"
    },
    "id": "i0ueS-ScZaKe",
    "outputId": "1dbb421d-f69e-4365-82cf-879aaa55e9e4"
   },
   "outputs": [
    {
     "data": {
      "text/plain": [
       "OrderedDict([('BBDC4.SA', 0.0),\n",
       "             ('PETR4.SA', 0.0750821364931807),\n",
       "             ('ITSA4.SA', 0.0),\n",
       "             ('OIBR4.SA', 0.0),\n",
       "             ('VIVT4.SA', 0.2048146820283269),\n",
       "             ('BRKM5.SA', 0.0),\n",
       "             ('CMIG4.SA', 0.0),\n",
       "             ('JBSS3.SA', 0.3561854558125462),\n",
       "             ('USIM5.SA', 0.0),\n",
       "             ('LAME4.SA', 0.0),\n",
       "             ('ENBR3.SA', 0.3639177256659462)])"
      ]
     },
     "execution_count": 104,
     "metadata": {
      "tags": []
     },
     "output_type": "execute_result"
    }
   ],
   "source": [
    "ef.max_sharpe()"
   ]
  },
  {
   "cell_type": "markdown",
   "metadata": {
    "id": "VwCKYNFF7yiU"
   },
   "source": [
    "Pesos da carteira ou portfólio eficiente."
   ]
  },
  {
   "cell_type": "code",
   "execution_count": 84,
   "metadata": {
    "colab": {
     "base_uri": "https://localhost:8080/"
    },
    "id": "WawShx-U7ytK",
    "outputId": "8cf06819-bab6-44c1-ffe5-e8ea53971958"
   },
   "outputs": [
    {
     "data": {
      "text/plain": [
       "array([0.        , 0.        , 0.        , 0.        , 0.        ,\n",
       "       0.        , 0.        , 0.72870366, 0.        , 0.        ,\n",
       "       0.27129634])"
      ]
     },
     "execution_count": 84,
     "metadata": {
      "tags": []
     },
     "output_type": "execute_result"
    }
   ],
   "source": [
    "ef.weights"
   ]
  },
  {
   "cell_type": "markdown",
   "metadata": {
    "id": "g3MZIjQCo9ZG"
   },
   "source": [
    "Aqui eu irei otimizar o retorno eficiente dado um risco alvo, que eu vou definir como 0.1, arbritariamente.\n",
    "\n",
    "Veja que para nosso conjunto de ativos o portfólio que seria o mais eficiente teria 72.8% de ações da *JBSS3.SA* e 27.12% da *ENBR3.SA*."
   ]
  },
  {
   "cell_type": "code",
   "execution_count": 40,
   "metadata": {
    "colab": {
     "base_uri": "https://localhost:8080/"
    },
    "id": "_ENMQzUkZaIp",
    "outputId": "1ee309de-7272-4708-b2e2-773812a21ae7"
   },
   "outputs": [
    {
     "data": {
      "text/plain": [
       "OrderedDict([('BBDC4.SA', 0.0),\n",
       "             ('PETR4.SA', 0.0),\n",
       "             ('ITSA4.SA', 0.0),\n",
       "             ('OIBR4.SA', 0.0),\n",
       "             ('VIVT4.SA', 0.0),\n",
       "             ('BRKM5.SA', 0.0),\n",
       "             ('CMIG4.SA', 0.0),\n",
       "             ('JBSS3.SA', 0.7287036566905656),\n",
       "             ('USIM5.SA', 0.0),\n",
       "             ('LAME4.SA', 0.0),\n",
       "             ('ENBR3.SA', 0.2712963433094346)])"
      ]
     },
     "execution_count": 40,
     "metadata": {
      "tags": []
     },
     "output_type": "execute_result"
    }
   ],
   "source": [
    "ef.efficient_return(target_return = 0.1)"
   ]
  },
  {
   "cell_type": "markdown",
   "metadata": {
    "id": "greRR4yUrMrZ"
   },
   "source": [
    "Calculando o Retorno esperado, volatilidade e índice de *Sharpe* do nosso portfólio."
   ]
  },
  {
   "cell_type": "code",
   "execution_count": 85,
   "metadata": {
    "colab": {
     "base_uri": "https://localhost:8080/"
    },
    "id": "7BxQRDYiptR7",
    "outputId": "905fc37e-dd94-48d1-e07c-971d0224e1a9"
   },
   "outputs": [
    {
     "name": "stdout",
     "output_type": "stream",
     "text": [
      "Retorno esperado do portfólio : 1.0200000000000002\n",
      "Volatilidade do portfólio : 0.34946707624919787\n",
      "Índice de Sharpe do portfólio : 2.861499889296926\n"
     ]
    }
   ],
   "source": [
    "print('Retorno esperado do portfólio :',ef.portfolio_performance()[0])\n",
    "print('Volatilidade do portfólio :',ef.portfolio_performance()[1])\n",
    "print('Índice de Sharpe do portfólio :',ef.portfolio_performance()[2])"
   ]
  },
  {
   "cell_type": "markdown",
   "metadata": {
    "id": "cyHfyE-Fud8b"
   },
   "source": [
    "Plotando a Fronteira Eficiente\n",
    "\n",
    "Vamos visualizar onde está localizada a carteira ótima dentre todas as possivéis carteiras. Nosso resultado ótimo está em cima da linha azul, ou seja, na fronteira do conjunto de carteiras."
   ]
  },
  {
   "cell_type": "code",
   "execution_count": 91,
   "metadata": {
    "colab": {
     "base_uri": "https://localhost:8080/",
     "height": 314
    },
    "id": "PLN_pmZJm8Fr",
    "outputId": "9a3f9f1a-794a-462b-f48c-cc87eb737287"
   },
   "outputs": [
    {
     "data": {
      "text/plain": [
       "<Figure size 1440x720 with 0 Axes>"
      ]
     },
     "metadata": {
      "tags": []
     },
     "output_type": "display_data"
    },
    {
     "data": {
      "image/png": "[encoded data removed]",
      "text/plain": [
       "<Figure size 432x288 with 1 Axes>"
      ]
     },
     "metadata": {
      "needs_background": "light",
      "tags": []
     },
     "output_type": "display_data"
    }
   ],
   "source": [
    "plot=cla.CLA(expected_returns.mean_historical_return(newdata, returns_data=False, compounding=True, frequency=252), matriz, weight_bounds=(0,1))\n",
    "plt.figure(figsize=(20,10))\n",
    "plotting.plot_efficient_frontier(plot);"
   ]
  },
  {
   "cell_type": "markdown",
   "metadata": {
    "id": "5gmWuRnr66ZN"
   },
   "source": [
    "Plotando *clusters* de ativos\n",
    "\n",
    "Podemos visualizar os ativos que possuem semelhanças por meio de um dendrograma, que é um gráfico em formato de árvore e que organiza variáveis. Podemos notar que as ações *BBDC4.SA* e *ITSA4.SA*, que são justamente ativos do setor bancário (Bradesco e Itaú Unibanco); e outras que são semelhantes são *CMIG4.SA* e *ENBR3.SA*, que são do setor elétrico."
   ]
  },
  {
   "cell_type": "code",
   "execution_count": 83,
   "metadata": {
    "colab": {
     "base_uri": "https://localhost:8080/",
     "height": 297
    },
    "id": "tSocsARgptXI",
    "outputId": "7666f81e-5aa9-4d1e-9743-162f73c65e08"
   },
   "outputs": [
    {
     "data": {
      "image/png": "[encoded data removed]",
      "text/plain": [
       "<Figure size 432x288 with 1 Axes>"
      ]
     },
     "metadata": {
      "needs_background": "light",
      "tags": []
     },
     "output_type": "display_data"
    }
   ],
   "source": [
    "hpt=hierarchical_portfolio.HRPOpt(returns = expected_returns.returns_from_prices(newdata, log_returns=False),cov_matrix=matriz)\n",
    "plotting.plot_dendrogram(hpt);"
   ]
  },
  {
   "cell_type": "markdown",
   "metadata": {
    "id": "FP72iMTWBMEi"
   },
   "source": [
    "## Conclusão\n",
    "\n",
    "Com essa biblioteca pude aplicar de forma mais automatizada métodos de para identificação de uma carteira de ativos ótima que reduza o risco desse conjunto de ações. Gerei os retornos esperados anualizados, retornos esperados logarítmicos, retornos pelo método *CAPM*, matrizes de covariância (que são os modelos de risco), por fim, a fronteira de eficiência (com a carteira ótima) e agrupamentos de ativos.\n",
    "\n",
    "Existem outras funcionalidades que poderiam ser aplicadas, mas serão usadas em outro projeto, como por exemplo a inserção de regularizações, de restrições na fronteira de eficiência e a alocação *Black-Litterman* (método bayseano de alocação de ativos).\n",
    "\n"
   ]
  }
 ],
 "metadata": {
  "colab": {
   "name": "Otimização de portfólios com PyPortfolioOpt.ipynb",
   "provenance": []
  },
  "kernelspec": {
   "display_name": "Python 3",
   "language": "python",
   "name": "python3"
  },
  "language_info": {
   "codemirror_mode": {
    "name": "ipython",
    "version": 3
   },
   "file_extension": ".py",
   "mimetype": "text/x-python",
   "name": "python",
   "nbconvert_exporter": "python",
   "pygments_lexer": "ipython3",
   "version": "3.6.8"
  }
 },
 "nbformat": 4,
 "nbformat_minor": 1
}
